{
 "cells": [
  {
   "cell_type": "code",
   "execution_count": 145,
   "id": "ab5d0461-114e-4592-9e68-c8b4a76ca854",
   "metadata": {},
   "outputs": [],
   "source": [
    "def rol_r(num,shift):\n",
    "    return (num << shift) | (num >> (64-shift))\n",
    "\n",
    "def rol_l(num,shift):\n",
    "    return (num >> shift) | ((num << (64-shift)) & (2**65 - 1))"
   ]
  },
  {
   "cell_type": "code",
   "execution_count": 146,
   "id": "3ebe404e-8a45-4575-a6c9-ae23112faac3",
   "metadata": {},
   "outputs": [
    {
     "data": {
      "text/plain": [
       "32"
      ]
     },
     "execution_count": 146,
     "metadata": {},
     "output_type": "execute_result"
    }
   ],
   "source": [
    "rol_l(rol_r(32,10),10)"
   ]
  },
  {
   "cell_type": "code",
   "execution_count": 147,
   "id": "bb584bf8-644d-43b6-9f40-52c09b35f983",
   "metadata": {},
   "outputs": [],
   "source": [
    "x = x ^ int(\"1275437152437512431354\",8)\n",
    "x = (x << 10) | (x >> (64-10))\n",
    "\n",
    "a = x & 1229782938247303441\n",
    "b = x & int(\"0210421042104210421042\",8)\n",
    "c = x & rol_r(1229782938247303441,2)\n",
    "d = x & rol_r(int(\"0210421042104210421042\",8),2)\n",
    "\n",
    "aa = int(\"0100101000011110\",16)\n",
    "bb = int(\"2002220020022220\",16)\n",
    "cc = int(\"4444040044044400\",16)\n",
    "dd = int(\"8880008080000880\",16)"
   ]
  },
  {
   "cell_type": "code",
   "execution_count": 148,
   "id": "a615f77e-8bc7-4b9e-9cb7-397bd7633262",
   "metadata": {},
   "outputs": [
    {
     "name": "stdout",
     "output_type": "stream",
     "text": [
      "0000000100000000000100000001000000000000000000010001000100010000\n",
      "0010000000000010001000100000000000100000000000100010001000100000\n",
      "0100010001000100000001000000000001000100000001000100010000000000\n",
      "1000100010000000000000001000000010000000000000000000100010000000\n"
     ]
    },
    {
     "data": {
      "text/plain": [
       "[None, None, None, None]"
      ]
     },
     "execution_count": 148,
     "metadata": {},
     "output_type": "execute_result"
    }
   ],
   "source": [
    "[\n",
    "    print(\"{0:064b}\".format(x)) for x in [aa,bb,cc,dd]\n",
    "]"
   ]
  },
  {
   "cell_type": "markdown",
   "id": "59cfc0bf-3b51-4d34-9f75-8b2bd898a697",
   "metadata": {
    "tags": []
   },
   "source": [
    "## Reversing by hand"
   ]
  },
  {
   "cell_type": "markdown",
   "id": "12d66787-cf66-45e6-8da8-409c0968aa4c",
   "metadata": {},
   "source": [
    "We just go backwards. Earlier, we could note that constants which are compared to $a,b,c,d$ do not share any bits. Therefore, we can first reverse the steps to create $a,b,c,d$. The inverse of _and_ is _and_. Next we fuse $xa,xb,xc,xd$ with and _or_ together. It is likely that the applied masks only extract certain bits. This can later be observed."
   ]
  },
  {
   "cell_type": "code",
   "execution_count": 149,
   "id": "11af5e45-56c9-4cc2-b102-a3b3eca4a692",
   "metadata": {},
   "outputs": [],
   "source": [
    "aa = int(\"0100101000011110\",16)\n",
    "bb = int(\"2002220020022220\",16)\n",
    "cc = int(\"4444040044044400\",16)\n",
    "dd = int(\"8880008080000880\",16) & (2**65 - 1)"
   ]
  },
  {
   "cell_type": "code",
   "execution_count": 150,
   "id": "d769cdc0-ae31-4168-a8dd-dc220d8cc19f",
   "metadata": {},
   "outputs": [],
   "source": [
    "xa = aa & 1229782938247303441 \n",
    "xb = bb & int(\"0210421042104210421042\",8)\n",
    "xc = cc & rol_r(1229782938247303441,2)\n",
    "xd = dd & rol_r(int(\"0210421042104210421042\",8),2)"
   ]
  },
  {
   "cell_type": "code",
   "execution_count": 151,
   "id": "1561598d-6702-4a4d-b088-60f8b272a633",
   "metadata": {},
   "outputs": [
    {
     "name": "stdout",
     "output_type": "stream",
     "text": [
      "0000000100000000000100000001000000000000000000010001000100010000\n",
      "0010000000000010001000100000000000100000000000100010001000100000\n",
      "0100010001000100000001000000000001000100000001000100010000000000\n",
      "1000100010000000000000001000000010000000000000000000100010000000\n"
     ]
    },
    {
     "data": {
      "text/plain": [
       "[None, None, None, None]"
      ]
     },
     "execution_count": 151,
     "metadata": {},
     "output_type": "execute_result"
    }
   ],
   "source": [
    "[\n",
    "    print(\"{0:064b}\".format(x)) for x in [xa,xb,xc,xd]\n",
    "]"
   ]
  },
  {
   "cell_type": "markdown",
   "id": "436cfbc4-bc0b-4db3-b14b-2a5b283107cd",
   "metadata": {},
   "source": [
    "The outputs reveals that no number shares bits. Therefore we _or_ them together. At last, we revert the bitrolling and xoring."
   ]
  },
  {
   "cell_type": "code",
   "execution_count": 152,
   "id": "0f597a53-9aa1-474b-a1a9-25283fa04cac",
   "metadata": {},
   "outputs": [],
   "source": [
    "x = xa | xb | xc | xd    "
   ]
  },
  {
   "cell_type": "code",
   "execution_count": 153,
   "id": "9e43867c-76aa-48ea-b18f-a2913301ca34",
   "metadata": {},
   "outputs": [
    {
     "data": {
      "text/plain": [
       "17133441828306517936"
      ]
     },
     "execution_count": 153,
     "metadata": {},
     "output_type": "execute_result"
    }
   ],
   "source": [
    "x"
   ]
  },
  {
   "cell_type": "code",
   "execution_count": 154,
   "id": "6cf0fdbc-214c-4ea8-a84b-7581741cc938",
   "metadata": {},
   "outputs": [
    {
     "data": {
      "text/plain": [
       "35469068143446000095"
      ]
     },
     "execution_count": 154,
     "metadata": {},
     "output_type": "execute_result"
    }
   ],
   "source": [
    "x = rol_l(x,10)\n",
    "x"
   ]
  },
  {
   "cell_type": "code",
   "execution_count": 155,
   "id": "35c021de-6cd0-427a-9206-4433bc3f94f2",
   "metadata": {},
   "outputs": [
    {
     "data": {
      "text/plain": [
       "23299538858865275699"
      ]
     },
     "execution_count": 155,
     "metadata": {},
     "output_type": "execute_result"
    }
   ],
   "source": [
    "x = x ^ int(\"1275437152437512431354\",8)\n",
    "x"
   ]
  },
  {
   "cell_type": "code",
   "execution_count": 156,
   "id": "92dd87b8-b20a-46b4-9096-c9edee1d6d7b",
   "metadata": {},
   "outputs": [
    {
     "name": "stdout",
     "output_type": "stream",
     "text": [
      "0 => 3\n",
      "1 => 3\n",
      "2 => 3\n",
      "3 => 3\n",
      "4 => 3\n",
      "5 => 1\n",
      "6 => 9\n",
      "7 => 5\n",
      "8 => 5\n",
      "9 => 2\n",
      "10 => 7\n",
      "11 => 9\n",
      "12 => 8\n",
      "13 => 5\n",
      "14 => 3\n",
      "15 => 4\n"
     ]
    },
    {
     "data": {
      "text/plain": [
       "'3333319552798534'"
      ]
     },
     "execution_count": 156,
     "metadata": {},
     "output_type": "execute_result"
    }
   ],
   "source": [
    "codes = []\n",
    "for i in range(16):\n",
    "    code = (x >> 4*i) & 0xF\n",
    "    print(i,\"=>\",code)\n",
    "    codes.append(code)\n",
    "\n",
    "\"\".join(str(x) for x in codes)"
   ]
  },
  {
   "cell_type": "markdown",
   "id": "92ab09e2-d1e4-4d28-b0ef-6512f016afba",
   "metadata": {},
   "source": [
    "# Let's do z3"
   ]
  },
  {
   "cell_type": "code",
   "execution_count": 1,
   "id": "9dc8057b-68a2-419d-a345-9c7bd6317d04",
   "metadata": {},
   "outputs": [
    {
     "ename": "ModuleNotFoundError",
     "evalue": "No module named 'z3'",
     "output_type": "error",
     "traceback": [
      "\u001b[0;31m---------------------------------------------------------------------------\u001b[0m",
      "\u001b[0;31mModuleNotFoundError\u001b[0m                       Traceback (most recent call last)",
      "\u001b[0;32m/tmp/ipykernel_97171/2149265671.py\u001b[0m in \u001b[0;36m<module>\u001b[0;34m\u001b[0m\n\u001b[0;32m----> 1\u001b[0;31m \u001b[0;32mfrom\u001b[0m \u001b[0mz3\u001b[0m \u001b[0;32mimport\u001b[0m \u001b[0;34m*\u001b[0m\u001b[0;31m#\u001b[0m\u001b[0;34m\u001b[0m\u001b[0;34m\u001b[0m\u001b[0m\n\u001b[0m\u001b[1;32m      2\u001b[0m \u001b[0;34m\u001b[0m\u001b[0m\n\u001b[1;32m      3\u001b[0m \u001b[0;32mdef\u001b[0m \u001b[0mrol\u001b[0m\u001b[0;34m(\u001b[0m\u001b[0mnum\u001b[0m\u001b[0;34m,\u001b[0m\u001b[0mshift\u001b[0m\u001b[0;34m)\u001b[0m\u001b[0;34m:\u001b[0m\u001b[0;34m\u001b[0m\u001b[0;34m\u001b[0m\u001b[0m\n\u001b[1;32m      4\u001b[0m     \u001b[0;32mreturn\u001b[0m \u001b[0;34m(\u001b[0m\u001b[0mnum\u001b[0m \u001b[0;34m<<\u001b[0m \u001b[0mshift\u001b[0m \u001b[0;34m|\u001b[0m \u001b[0;34m(\u001b[0m\u001b[0mnum\u001b[0m \u001b[0;34m>>\u001b[0m \u001b[0;34m(\u001b[0m\u001b[0;36m64\u001b[0m\u001b[0;34m-\u001b[0m\u001b[0mshift\u001b[0m\u001b[0;34m)\u001b[0m\u001b[0;34m)\u001b[0m\u001b[0;34m)\u001b[0m\u001b[0;34m\u001b[0m\u001b[0;34m\u001b[0m\u001b[0m\n",
      "\u001b[0;31mModuleNotFoundError\u001b[0m: No module named 'z3'"
     ]
    }
   ],
   "source": [
    "from z3 import *#\n",
    "\n",
    "def rol(num,shift):\n",
    "    return (num << shift | (num >> (64-shift)))"
   ]
  },
  {
   "cell_type": "code",
   "execution_count": 136,
   "id": "3c45e7d0-d4f6-4b2a-8f08-c8af8041f1f6",
   "metadata": {},
   "outputs": [],
   "source": [
    "x,y,z = BitVecs(\"x y z\",64)\n",
    "\n",
    "a = BitVecVal(int(\"0100101000011110\",16),64)\n",
    "b = BitVecVal(int(\"2002220020022220\",16),64)\n",
    "c = BitVecVal(int(\"4444040044044400\",16),64)\n",
    "d = BitVecVal(int(\"8880008080000880\",16),64) # this should take care of uint64"
   ]
  },
  {
   "cell_type": "code",
   "execution_count": 137,
   "id": "d1c0ea28-c3c6-4aed-935b-9fc0968b5500",
   "metadata": {},
   "outputs": [],
   "source": [
    "s = Solver()"
   ]
  },
  {
   "cell_type": "code",
   "execution_count": 138,
   "id": "471a74de-00f1-48ef-a909-62945169c645",
   "metadata": {},
   "outputs": [],
   "source": [
    "s.add(y == z ^ int(\"1275437152437512431354\",8))\n",
    "s.add(x == RotateLeft(y,10))\n",
    "s.add(x & 1229782938247303441 == a)\n",
    "s.add(x & int(\"0210421042104210421042\",8) == b)\n",
    "s.add(x & rol(1229782938247303441,2) == c)\n",
    "s.add(x & rol(int(\"0210421042104210421042\",8),2) == d)"
   ]
  },
  {
   "cell_type": "code",
   "execution_count": 139,
   "id": "8469e38b-d01d-401f-b1c4-81e7167d6822",
   "metadata": {},
   "outputs": [
    {
     "data": {
      "text/html": [
       "<b>sat</b>"
      ],
      "text/plain": [
       "sat"
      ]
     },
     "execution_count": 139,
     "metadata": {},
     "output_type": "execute_result"
    }
   ],
   "source": [
    "s.check()"
   ]
  },
  {
   "cell_type": "code",
   "execution_count": 140,
   "id": "23abc12a-4b70-45a6-a072-54db198f5242",
   "metadata": {},
   "outputs": [
    {
     "data": {
      "text/html": [
       "[y = 17022324069736448479,\n",
       " x = 17133441828306517936,\n",
       " z = 4852794785155724083]"
      ],
      "text/plain": [
       "[y = 17022324069736448479,\n",
       " x = 17133441828306517936,\n",
       " z = 4852794785155724083]"
      ]
     },
     "execution_count": 140,
     "metadata": {},
     "output_type": "execute_result"
    }
   ],
   "source": [
    "s.model()"
   ]
  }
 ],
 "metadata": {
  "kernelspec": {
   "display_name": "Python 3 (ipykernel)",
   "language": "python",
   "name": "python3"
  },
  "language_info": {
   "codemirror_mode": {
    "name": "ipython",
    "version": 3
   },
   "file_extension": ".py",
   "mimetype": "text/x-python",
   "name": "python",
   "nbconvert_exporter": "python",
   "pygments_lexer": "ipython3",
   "version": "3.9.7"
  }
 },
 "nbformat": 4,
 "nbformat_minor": 5
}
