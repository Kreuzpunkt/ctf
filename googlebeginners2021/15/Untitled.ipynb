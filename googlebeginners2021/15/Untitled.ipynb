{
 "cells": [
  {
   "cell_type": "code",
   "execution_count": 2,
   "source": [
    "def rol_r(num,shift):\n",
    "    return ((num << shift) | (num >> (64-shift))) & (2**65 - 1)\n",
    "\n",
    "def rol_l(num,shift):\n",
    "    return ((num >> shift) | (num << (64-shift))) & (2**65 - 1)"
   ],
   "outputs": [],
   "metadata": {}
  },
  {
   "cell_type": "code",
   "execution_count": 3,
   "source": [
    "rol_l(rol_r(32,10),10)"
   ],
   "outputs": [
    {
     "output_type": "execute_result",
     "data": {
      "text/plain": [
       "32"
      ]
     },
     "metadata": {},
     "execution_count": 3
    }
   ],
   "metadata": {}
  },
  {
   "cell_type": "code",
   "execution_count": 4,
   "source": [
    "x = x ^ int(\"1275437152437512431354\",8)\n",
    "x = (x << 10) | (x >> (64-10))\n",
    "\n",
    "a = x & 1229782938247303441\n",
    "b = x & int(\"0210421042104210421042\",8)\n",
    "c = x & rol_r(1229782938247303441,2)\n",
    "d = x & rol_r(int(\"0210421042104210421042\",8),2)\n",
    "\n",
    "aa = int(\"0100101000011110\",16)\n",
    "bb = int(\"2002220020022220\",16)\n",
    "cc = int(\"4444040044044400\",16)\n",
    "dd = int(\"8880008080000880\",16)"
   ],
   "outputs": [
    {
     "output_type": "error",
     "ename": "NameError",
     "evalue": "name 'x' is not defined",
     "traceback": [
      "\u001b[0;31m---------------------------------------------------------------------------\u001b[0m",
      "\u001b[0;31mNameError\u001b[0m                                 Traceback (most recent call last)",
      "\u001b[0;32m/tmp/ipykernel_105964/330825289.py\u001b[0m in \u001b[0;36m<module>\u001b[0;34m\u001b[0m\n\u001b[0;32m----> 1\u001b[0;31m \u001b[0mx\u001b[0m \u001b[0;34m=\u001b[0m \u001b[0mx\u001b[0m \u001b[0;34m^\u001b[0m \u001b[0mint\u001b[0m\u001b[0;34m(\u001b[0m\u001b[0;34m\"1275437152437512431354\"\u001b[0m\u001b[0;34m,\u001b[0m\u001b[0;36m8\u001b[0m\u001b[0;34m)\u001b[0m\u001b[0;34m\u001b[0m\u001b[0;34m\u001b[0m\u001b[0m\n\u001b[0m\u001b[1;32m      2\u001b[0m \u001b[0mx\u001b[0m \u001b[0;34m=\u001b[0m \u001b[0;34m(\u001b[0m\u001b[0mx\u001b[0m \u001b[0;34m<<\u001b[0m \u001b[0;36m10\u001b[0m\u001b[0;34m)\u001b[0m \u001b[0;34m|\u001b[0m \u001b[0;34m(\u001b[0m\u001b[0mx\u001b[0m \u001b[0;34m>>\u001b[0m \u001b[0;34m(\u001b[0m\u001b[0;36m64\u001b[0m\u001b[0;34m-\u001b[0m\u001b[0;36m10\u001b[0m\u001b[0;34m)\u001b[0m\u001b[0;34m)\u001b[0m\u001b[0;34m\u001b[0m\u001b[0;34m\u001b[0m\u001b[0m\n\u001b[1;32m      3\u001b[0m \u001b[0;34m\u001b[0m\u001b[0m\n\u001b[1;32m      4\u001b[0m \u001b[0ma\u001b[0m \u001b[0;34m=\u001b[0m \u001b[0mx\u001b[0m \u001b[0;34m&\u001b[0m \u001b[0;36m1229782938247303441\u001b[0m\u001b[0;34m\u001b[0m\u001b[0;34m\u001b[0m\u001b[0m\n\u001b[1;32m      5\u001b[0m \u001b[0mb\u001b[0m \u001b[0;34m=\u001b[0m \u001b[0mx\u001b[0m \u001b[0;34m&\u001b[0m \u001b[0mint\u001b[0m\u001b[0;34m(\u001b[0m\u001b[0;34m\"0210421042104210421042\"\u001b[0m\u001b[0;34m,\u001b[0m\u001b[0;36m8\u001b[0m\u001b[0;34m)\u001b[0m\u001b[0;34m\u001b[0m\u001b[0;34m\u001b[0m\u001b[0m\n",
      "\u001b[0;31mNameError\u001b[0m: name 'x' is not defined"
     ]
    }
   ],
   "metadata": {}
  },
  {
   "cell_type": "code",
   "execution_count": 5,
   "source": [
    "[\n",
    "    print(\"{0:064b}\".format(x)) for x in [aa,bb,cc,dd]\n",
    "]"
   ],
   "outputs": [
    {
     "output_type": "error",
     "ename": "NameError",
     "evalue": "name 'aa' is not defined",
     "traceback": [
      "\u001b[0;31m---------------------------------------------------------------------------\u001b[0m",
      "\u001b[0;31mNameError\u001b[0m                                 Traceback (most recent call last)",
      "\u001b[0;32m/tmp/ipykernel_105964/3092842201.py\u001b[0m in \u001b[0;36m<module>\u001b[0;34m\u001b[0m\n\u001b[1;32m      1\u001b[0m [\n\u001b[0;32m----> 2\u001b[0;31m     \u001b[0mprint\u001b[0m\u001b[0;34m(\u001b[0m\u001b[0;34m\"{0:064b}\"\u001b[0m\u001b[0;34m.\u001b[0m\u001b[0mformat\u001b[0m\u001b[0;34m(\u001b[0m\u001b[0mx\u001b[0m\u001b[0;34m)\u001b[0m\u001b[0;34m)\u001b[0m \u001b[0;32mfor\u001b[0m \u001b[0mx\u001b[0m \u001b[0;32min\u001b[0m \u001b[0;34m[\u001b[0m\u001b[0maa\u001b[0m\u001b[0;34m,\u001b[0m\u001b[0mbb\u001b[0m\u001b[0;34m,\u001b[0m\u001b[0mcc\u001b[0m\u001b[0;34m,\u001b[0m\u001b[0mdd\u001b[0m\u001b[0;34m]\u001b[0m\u001b[0;34m\u001b[0m\u001b[0;34m\u001b[0m\u001b[0m\n\u001b[0m\u001b[1;32m      3\u001b[0m ]\n",
      "\u001b[0;31mNameError\u001b[0m: name 'aa' is not defined"
     ]
    }
   ],
   "metadata": {}
  },
  {
   "cell_type": "markdown",
   "source": [
    "## Reversing by hand"
   ],
   "metadata": {
    "tags": []
   }
  },
  {
   "cell_type": "markdown",
   "source": [
    "We just go backwards. Earlier, we could note that constants which are compared to $a,b,c,d$ do not share any bits. Therefore, we can first reverse the steps to create $a,b,c,d$. The inverse of _and_ is _and_. Next we fuse $xa,xb,xc,xd$ with and _or_ together. It is likely that the applied masks only extract certain bits. This can later be observed."
   ],
   "metadata": {}
  },
  {
   "cell_type": "code",
   "execution_count": 6,
   "source": [
    "aa = int(\"0100101000011110\",16)\n",
    "bb = int(\"2002220020022220\",16)\n",
    "cc = int(\"4444040044044400\",16)\n",
    "dd = int(\"8880008080000880\",16) & (2**65 - 1)"
   ],
   "outputs": [],
   "metadata": {}
  },
  {
   "cell_type": "code",
   "execution_count": 7,
   "source": [
    "xa = aa & 1229782938247303441 \n",
    "xb = bb & int(\"0210421042104210421042\",8)\n",
    "xc = cc & rol_r(1229782938247303441,2)\n",
    "xd = dd & rol_r(int(\"0210421042104210421042\",8),2)"
   ],
   "outputs": [],
   "metadata": {}
  },
  {
   "cell_type": "code",
   "execution_count": 8,
   "source": [
    "[\n",
    "    print(\"{0:064b}\".format(x)) for x in [xa,xb,xc,xd]\n",
    "]"
   ],
   "outputs": [
    {
     "output_type": "stream",
     "name": "stdout",
     "text": [
      "0000000100000000000100000001000000000000000000010001000100010000\n",
      "0010000000000010001000100000000000100000000000100010001000100000\n",
      "0100010001000100000001000000000001000100000001000100010000000000\n",
      "1000100010000000000000001000000010000000000000000000100010000000\n"
     ]
    },
    {
     "output_type": "execute_result",
     "data": {
      "text/plain": [
       "[None, None, None, None]"
      ]
     },
     "metadata": {},
     "execution_count": 8
    }
   ],
   "metadata": {}
  },
  {
   "cell_type": "markdown",
   "source": [
    "The outputs reveals that no number shares bits. Therefore we _or_ them together. At last, we revert the bitrolling and xoring."
   ],
   "metadata": {}
  },
  {
   "cell_type": "code",
   "execution_count": 9,
   "source": [
    "x = xa | xb | xc | xd    "
   ],
   "outputs": [],
   "metadata": {}
  },
  {
   "cell_type": "code",
   "execution_count": 10,
   "source": [
    "x"
   ],
   "outputs": [
    {
     "output_type": "execute_result",
     "data": {
      "text/plain": [
       "17133441828306517936"
      ]
     },
     "metadata": {},
     "execution_count": 10
    }
   ],
   "metadata": {}
  },
  {
   "cell_type": "code",
   "execution_count": 11,
   "source": [
    "x = rol_l(x,10)\n",
    "x"
   ],
   "outputs": [
    {
     "output_type": "execute_result",
     "data": {
      "text/plain": [
       "35469068143446000095"
      ]
     },
     "metadata": {},
     "execution_count": 11
    }
   ],
   "metadata": {}
  },
  {
   "cell_type": "code",
   "execution_count": 12,
   "source": [
    "x = x ^ int(\"1275437152437512431354\",8)\n",
    "x"
   ],
   "outputs": [
    {
     "output_type": "execute_result",
     "data": {
      "text/plain": [
       "23299538858865275699"
      ]
     },
     "metadata": {},
     "execution_count": 12
    }
   ],
   "metadata": {}
  },
  {
   "cell_type": "code",
   "execution_count": 13,
   "source": [
    "codes = []\n",
    "for i in range(16):\n",
    "    code = (x >> 4*i) & 0xF\n",
    "    print(i,\"=>\",code)\n",
    "    codes.append(code)\n",
    "\n",
    "\"\".join(str(x) for x in codes)"
   ],
   "outputs": [
    {
     "output_type": "stream",
     "name": "stdout",
     "text": [
      "0 => 3\n",
      "1 => 3\n",
      "2 => 3\n",
      "3 => 3\n",
      "4 => 3\n",
      "5 => 1\n",
      "6 => 9\n",
      "7 => 5\n",
      "8 => 5\n",
      "9 => 2\n",
      "10 => 7\n",
      "11 => 9\n",
      "12 => 8\n",
      "13 => 5\n",
      "14 => 3\n",
      "15 => 4\n"
     ]
    },
    {
     "output_type": "execute_result",
     "data": {
      "text/plain": [
       "'3333319552798534'"
      ]
     },
     "metadata": {},
     "execution_count": 13
    }
   ],
   "metadata": {}
  },
  {
   "cell_type": "markdown",
   "source": [
    "# Let's do z3"
   ],
   "metadata": {}
  },
  {
   "cell_type": "code",
   "execution_count": 46,
   "source": [
    "from z3 import *"
   ],
   "outputs": [],
   "metadata": {}
  },
  {
   "cell_type": "code",
   "execution_count": 69,
   "source": [
    "x,y,z = BitVecs(\"x y z\",64)\n",
    "\n",
    "a = BitVecVal(int(\"0100101000011110\",16),64)\n",
    "b = BitVecVal(int(\"2002220020022220\",16),64)\n",
    "c = BitVecVal(int(\"4444040044044400\",16),64)\n",
    "d = BitVecVal(int(\"8880008080000880\",16),64) # this should take care of uint64\n",
    "\n",
    "''' \n",
    "We have to provide our own RotateRight method, because z3.RotateRight is based on arithmetic shifting. However, \n",
    "we operate on unsinged integers. Therefore, we can only use logical shifts i.e. LShR\n",
    "'''\n",
    "\n",
    "def rol(num,shift):\n",
    "    return (num << shift) | LShR(num, 64-shift)"
   ],
   "outputs": [],
   "metadata": {}
  },
  {
   "cell_type": "code",
   "execution_count": 70,
   "source": [
    "s = Solver()\n",
    "\n",
    "s.add(y == z ^ int(\"1275437152437512431354\",8))\n",
    "s.add(x == rol(y,10))\n",
    "s.add(x & 1229782938247303441 == a)\n",
    "s.add(x & int(\"0210421042104210421042\",8) == b)\n",
    "s.add(x & rol(BitVecVal(1229782938247303441,64),2) == c)\n",
    "s.add(x & rol(BitVecVal(int(\"0210421042104210421042\",8),64),2) == d)\n",
    "\n",
    "s.check()"
   ],
   "outputs": [
    {
     "output_type": "execute_result",
     "data": {
      "text/html": [
       "<b>sat</b>"
      ],
      "text/plain": [
       "sat"
      ]
     },
     "metadata": {},
     "execution_count": 70
    }
   ],
   "metadata": {}
  },
  {
   "cell_type": "code",
   "execution_count": 71,
   "source": [
    "m = s.model()\n",
    "x = m[z].as_long()\n",
    "\n",
    "codes = []\n",
    "for i in range(16):\n",
    "    code = (x >> 4*i) & 0xF\n",
    "    print(i,\"=>\",code)\n",
    "    codes.append(code)\n",
    "\n",
    "\"\".join(str(x) for x in codes)"
   ],
   "outputs": [
    {
     "output_type": "stream",
     "name": "stdout",
     "text": [
      "0 => 3\n",
      "1 => 3\n",
      "2 => 3\n",
      "3 => 3\n",
      "4 => 3\n",
      "5 => 1\n",
      "6 => 9\n",
      "7 => 5\n",
      "8 => 5\n",
      "9 => 2\n",
      "10 => 7\n",
      "11 => 9\n",
      "12 => 8\n",
      "13 => 5\n",
      "14 => 3\n",
      "15 => 4\n"
     ]
    },
    {
     "output_type": "execute_result",
     "data": {
      "text/plain": [
       "'3333319552798534'"
      ]
     },
     "metadata": {},
     "execution_count": 71
    }
   ],
   "metadata": {}
  }
 ],
 "metadata": {
  "kernelspec": {
   "name": "python3",
   "display_name": "Python 3.9.7 64-bit ('env': venv)"
  },
  "language_info": {
   "codemirror_mode": {
    "name": "ipython",
    "version": 3
   },
   "file_extension": ".py",
   "mimetype": "text/x-python",
   "name": "python",
   "nbconvert_exporter": "python",
   "pygments_lexer": "ipython3",
   "version": "3.9.7"
  },
  "interpreter": {
   "hash": "991d7e3f2edc6deac25d39f43ef2fbf7d3874e24ebd91d09b3c2ac8dcbff10ea"
  }
 },
 "nbformat": 4,
 "nbformat_minor": 5
}