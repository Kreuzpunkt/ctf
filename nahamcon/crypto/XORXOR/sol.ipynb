{
 "cells": [
  {
   "cell_type": "code",
   "execution_count": 33,
   "metadata": {},
   "outputs": [],
   "source": [
    "xorrox=[1, 209, 108, 239, 4, 55, 34, 174, 79, 117, 8, 222, 123, 99, 184, 202, 95, 255, 175, 138, 150, 28, 183, 6, 168, 43, 205, 105, 92, 250, 28, 80, 31, 201, 46, 20, 50, 56]\n",
    "enc=[26, 188, 220, 228, 144, 1, 36, 185, 214, 11, 25, 178, 145, 47, 237, 70, 244, 149, 98, 20, 46, 187, 207, 136, 154, 231, 131, 193, 84, 148, 212, 126, 126, 226, 211, 10, 20, 119]"
   ]
  },
  {
   "cell_type": "code",
   "execution_count": 2,
   "metadata": {},
   "outputs": [
    {
     "data": {
      "text/plain": [
       "38"
      ]
     },
     "execution_count": 2,
     "metadata": {},
     "output_type": "execute_result"
    }
   ],
   "source": [
    "len(enc)"
   ]
  },
  {
   "cell_type": "markdown",
   "metadata": {},
   "source": [
    "$key \\in \\{1,\\cdots,256\\}^{38}$\n",
    "\n",
    "```\n",
    "xorrox = []\n",
    "enc = []\n",
    "for i, v in enumerate(key):\n",
    "    k = 1\n",
    "    for j in range(1,i):\n",
    "        k ^= key[j]\n",
    "    xorrox.append(k)\n",
    "    enc.append(flag[i] ^ v)\n",
    "```\n",
    "\n",
    "Therefore,\n",
    "\n",
    "```python \n",
    "xorrox[0] = 1 \n",
    "xorrox[1] = 1 ^ key[0]\n",
    "xorrox[2] = 1 ^ key[0] ^ key[1]\n",
    "xorrox[n] = 1 ^ key[0] ^ ... ^ key[n] \n",
    "```"
   ]
  },
  {
   "cell_type": "code",
   "execution_count": 35,
   "metadata": {},
   "outputs": [
    {
     "data": {
      "text/plain": [
       "'flag{21571dd4764a52121d94deea22214402}'"
      ]
     },
     "execution_count": 35,
     "metadata": {},
     "output_type": "execute_result"
    }
   ],
   "source": [
    "key = [ord(\"f\") ^ enc[0]]\n",
    "last = 0\n",
    "\n",
    "for val in xorrox[1:]:\n",
    "    key.append(val ^ 1 ^ last)\n",
    "    last = last ^ key[-1]\n",
    "\n",
    "\"\".join([chr(a^b) for a,b in zip(key,enc)])\n"
   ]
  },
  {
   "cell_type": "code",
   "execution_count": null,
   "metadata": {},
   "outputs": [],
   "source": []
  }
 ],
 "metadata": {
  "interpreter": {
   "hash": "31f2aee4e71d21fbe5cf8b01ff0e069b9275f58929596ceb00d14d90e3e16cd6"
  },
  "kernelspec": {
   "display_name": "Python 3.8.10 64-bit",
   "language": "python",
   "name": "python3"
  },
  "language_info": {
   "codemirror_mode": {
    "name": "ipython",
    "version": 3
   },
   "file_extension": ".py",
   "mimetype": "text/x-python",
   "name": "python",
   "nbconvert_exporter": "python",
   "pygments_lexer": "ipython3",
   "version": "3.8.10"
  },
  "orig_nbformat": 4
 },
 "nbformat": 4,
 "nbformat_minor": 2
}
