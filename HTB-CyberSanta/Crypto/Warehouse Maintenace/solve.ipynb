{
 "cells": [
  {
   "cell_type": "code",
   "execution_count": 1,
   "metadata": {},
   "outputs": [],
   "source": [
    "from hashlib import sha512 as SHA\n",
    "from pwn import *\n",
    "import struct"
   ]
  },
  {
   "cell_type": "markdown",
   "metadata": {},
   "source": [
    "We put in a fake oracle, because the server was closed just before finishing the challenge"
   ]
  },
  {
   "cell_type": "code",
   "execution_count": 42,
   "metadata": {},
   "outputs": [],
   "source": [
    "salt = os.urandom(randint(8,100))\n",
    "\n",
    "def sample_hash():\n",
    "\tdt = open('sample','rb').read()\n",
    "\th = hashlib.sha512( salt + dt ).hexdigest()\n",
    "\n",
    "\treturn dt.hex(), h\n",
    "\n",
    "def oracle(dt, h):\n",
    "\tdt = bytes.fromhex(dt)\n",
    "\t\n",
    "\tif hashlib.sha512( salt + dt ).hexdigest() == h:\n",
    "\t\treturn True\n",
    "\telse:\n",
    "\t\treturn False"
   ]
  },
  {
   "cell_type": "code",
   "execution_count": 43,
   "metadata": {},
   "outputs": [],
   "source": [
    "_,target_hash = sample_hash()"
   ]
  },
  {
   "cell_type": "code",
   "execution_count": 49,
   "metadata": {},
   "outputs": [
    {
     "data": {
      "text/plain": [
       "'d889d1037215d2c5940d5fb5339bb129640fb63183e73555ab3cd08d0c2a08a7931b4e93d18c7965363ed5fef2c6b2dd733edd11995c0fc70610522aaf288079'"
      ]
     },
     "execution_count": 49,
     "metadata": {},
     "output_type": "execute_result"
    }
   ],
   "source": [
    "target_hash"
   ]
  },
  {
   "cell_type": "code",
   "execution_count": 52,
   "metadata": {},
   "outputs": [],
   "source": [
    "#! /usr/bin/env python\n",
    "\n",
    "''' A resumable implementation of SHA-256 using ctypes with the OpenSSL crypto library\n",
    "\n",
    "    Written by PM 2Ring 2014.11.13\n",
    "'''\n",
    "\n",
    "from ctypes import *\n",
    "\n",
    "SHA_LBLOCK = 16\n",
    "SHA256_DIGEST_LENGTH = 64\n",
    "\n",
    "class SHA256_CTX(Structure):\n",
    "    _fields_ = [\n",
    "        (\"h\", c_long * 8),\n",
    "        (\"Nl\", c_long),\n",
    "        (\"Nh\", c_long),\n",
    "        (\"data\", c_long * SHA_LBLOCK),\n",
    "        (\"num\", c_uint),\n",
    "        (\"md_len\", c_uint)\n",
    "    ]\n",
    "\n",
    "HashBuffType = c_ubyte * SHA256_DIGEST_LENGTH\n",
    "\n",
    "#crypto = cdll.LoadLibrary(\"libcrypto.so\")\n",
    "crypto = cdll.LoadLibrary(\"libeay32.dll\" if os.name == \"nt\" else \"libssl.so\")\n",
    "\n",
    "class sha512(object):\n",
    "    digest_size = SHA256_DIGEST_LENGTH\n",
    "\n",
    "    def __init__(self, datastr=None):\n",
    "        self.ctx = SHA256_CTX()\n",
    "        crypto.SHA512_Init(byref(self.ctx))\n",
    "        if datastr:\n",
    "            self.update(datastr)\n",
    "\n",
    "    def update(self, datastr):\n",
    "        crypto.SHA512_Update(byref(self.ctx), datastr, c_int(len(datastr)))\n",
    "\n",
    "    #Clone the current context\n",
    "    def _copy_ctx(self):\n",
    "        ctx = SHA256_CTX()\n",
    "        pointer(ctx)[0] = self.ctx\n",
    "        return ctx\n",
    "\n",
    "    def copy(self):\n",
    "        other = SHA()\n",
    "        other.ctx = self._copy_ctx()\n",
    "        return other\n",
    "\n",
    "    def digest(self):\n",
    "        #Preserve context in case we get called before hashing is\n",
    "        # really finished, since SHA256_Final() clears the SHA256_CTX\n",
    "        ctx = self._copy_ctx()\n",
    "        hashbuff = HashBuffType()\n",
    "        crypto.SHA256_Final(hashbuff, byref(self.ctx))\n",
    "        self.ctx = ctx\n",
    "        return str(bytearray(hashbuff))\n",
    "\n",
    "    def hexdigest(self):\n",
    "        return self.digest().encode('hex')"
   ]
  },
  {
   "cell_type": "code",
   "execution_count": null,
   "metadata": {},
   "outputs": [],
   "source": [
    "def oracle(target_hash,query):\n",
    "    pass"
   ]
  }
 ],
 "metadata": {
  "interpreter": {
   "hash": "31f2aee4e71d21fbe5cf8b01ff0e069b9275f58929596ceb00d14d90e3e16cd6"
  },
  "kernelspec": {
   "display_name": "Python 3",
   "language": "python",
   "name": "python3"
  },
  "language_info": {
   "codemirror_mode": {
    "name": "ipython",
    "version": 3
   },
   "file_extension": ".py",
   "mimetype": "text/x-python",
   "name": "python",
   "nbconvert_exporter": "python",
   "pygments_lexer": "ipython3",
   "version": "3.8.10"
  }
 },
 "nbformat": 4,
 "nbformat_minor": 4
}
