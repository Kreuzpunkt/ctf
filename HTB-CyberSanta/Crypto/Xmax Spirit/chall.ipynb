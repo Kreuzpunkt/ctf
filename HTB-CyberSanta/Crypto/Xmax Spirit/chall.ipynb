{
 "cells": [
  {
   "cell_type": "code",
   "execution_count": 28,
   "metadata": {},
   "outputs": [],
   "source": [
    "from Crypto.Util import number \n",
    "with open('encrypted.bin', 'rb') as f:\n",
    "    content = f.read()"
   ]
  },
  {
   "cell_type": "markdown",
   "metadata": {},
   "source": [
    "So we have a linear function which is acclied to each byte\n",
    "\n",
    "$(a*\\text{val} + b) \\mod N$\n",
    "\n",
    "where $N$ is $256$ and $a$ and $b$ are chosen at random with $a$ being odd because of $gdc(a,N) = 1$\n",
    "\n",
    "We do not have to bruteforce $a$ and $b$, because the encrycted doc is likely a cdf starting with `%cDF` as its magic number"
   ]
  },
  {
   "cell_type": "code",
   "execution_count": 29,
   "metadata": {},
   "outputs": [
    {
     "data": {
      "text/plain": [
       "776746"
      ]
     },
     "execution_count": 29,
     "metadata": {},
     "output_type": "execute_result"
    }
   ],
   "source": [
    "len(content)"
   ]
  },
  {
   "cell_type": "code",
   "execution_count": 30,
   "metadata": {},
   "outputs": [
    {
     "data": {
      "text/plain": [
       "(13, 112, 132, 214)"
      ]
     },
     "execution_count": 30,
     "metadata": {},
     "output_type": "execute_result"
    }
   ],
   "source": [
    "starting_bytes = content[:4]\n",
    "N = 256\n",
    "c0,c1,c2,c3 = starting_bytes\n",
    "c0,c1,c2,c3"
   ]
  },
  {
   "cell_type": "code",
   "execution_count": 48,
   "metadata": {},
   "outputs": [
    {
     "data": {
      "text/plain": [
       "(37, 80, 68, 70)"
      ]
     },
     "execution_count": 48,
     "metadata": {},
     "output_type": "execute_result"
    }
   ],
   "source": [
    "p0,p1,p2,p3 = [ord(x) for x in \"%PDF\"]\n",
    "p0,p1,p2,p3"
   ]
  },
  {
   "cell_type": "markdown",
   "metadata": {},
   "source": [
    "So we get the following system of equations\n",
    "\n",
    "$c_0 = a * p_0 + b \\mod N$\n",
    "\n",
    "$c_1 = a * p_1 + b \\mod N$\n",
    "\n",
    "$c_2 = a * p_2 + b \\mod N$\n",
    "\n",
    "$c_3 = a * p_3 + b \\mod N$\n",
    "\n",
    "We can solve this by subtracting II and I and solving III for $b$\n",
    "\n",
    "$(c_0 - c_1) * (p_0-p_1)^{-1} = a \\mod N$\n",
    "\n",
    "$c_2 - a * p_2 = b \\mod N$\n",
    "\n",
    "After solving, we can inverse the generator:\n",
    "\n",
    "$c = a * p + b \\mod N$\n",
    "\n",
    "$p = (c - b) * a^{-1} \\mod N$"
   ]
  },
  {
   "cell_type": "code",
   "execution_count": 38,
   "metadata": {},
   "outputs": [],
   "source": []
  },
  {
   "cell_type": "code",
   "execution_count": 39,
   "metadata": {},
   "outputs": [
    {
     "data": {
      "text/plain": [
       "169"
      ]
     },
     "execution_count": 39,
     "metadata": {},
     "output_type": "execute_result"
    }
   ],
   "source": [
    "a = ((c0 - c1) % N * number.inverse(p0-p1,N)) % N\n",
    "a"
   ]
  },
  {
   "cell_type": "code",
   "execution_count": 40,
   "metadata": {},
   "outputs": [
    {
     "data": {
      "text/plain": [
       "160"
      ]
     },
     "execution_count": 40,
     "metadata": {},
     "output_type": "execute_result"
    }
   ],
   "source": [
    "b = (c2 - a*ord(\"D\")) % N\n",
    "b"
   ]
  },
  {
   "cell_type": "code",
   "execution_count": 43,
   "metadata": {},
   "outputs": [],
   "source": [
    "assert c3 == (a * ord(\"F\")+ b) % N"
   ]
  },
  {
   "cell_type": "code",
   "execution_count": 46,
   "metadata": {},
   "outputs": [],
   "source": [
    "a_inv = number.inverse(a,N)\n",
    "\n",
    "with open(\"message.pdf\",\"wb\") as f:\n",
    "    for c in content:\n",
    "        f.write(\n",
    "            bytes([(c - b) * a_inv % N])\n",
    "        )\n"
   ]
  },
  {
   "cell_type": "code",
   "execution_count": null,
   "metadata": {},
   "outputs": [],
   "source": []
  }
 ],
 "metadata": {
  "interpreter": {
   "hash": "31f2aee4e71d21fbe5cf8b01ff0e069b9275f58929596ceb00d14d90e3e16cd6"
  },
  "kernelspec": {
   "display_name": "Python 3.8.10 64-bit",
   "language": "python",
   "name": "python3"
  },
  "language_info": {
   "codemirror_mode": {
    "name": "ipython",
    "version": 3
   },
   "file_extension": ".py",
   "mimetype": "text/x-python",
   "name": "python",
   "nbconvert_exporter": "python",
   "pygments_lexer": "ipython3",
   "version": "3.8.10"
  },
  "orig_nbformat": 4
 },
 "nbformat": 4,
 "nbformat_minor": 2
}
