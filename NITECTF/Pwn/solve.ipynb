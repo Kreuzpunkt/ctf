{
 "cells": [
  {
   "cell_type": "code",
   "execution_count": 4,
   "metadata": {},
   "outputs": [],
   "source": [
    "import os, base64, sys\n",
    "from Crypto.Cipher import AES\n",
    "from Crypto.Util.Padding import pad, unpad\n",
    "\n",
    "KEY=os.urandom(16)\n",
    "IV=os.urandom(16)\n",
    "\n",
    "def encrypt(msg):\n",
    "    msg = pad(msg,16)\n",
    "    cipher = AES.new(KEY,AES.MODE_CBC,IV)\n",
    "    encrypted = cipher.encrypt(msg)\n",
    "    encrypted = encrypted.hex()\n",
    "    msg = IV.hex() + encrypted\n",
    "    return msg\n",
    "\n",
    "def decrypt(msg,iv):\n",
    "    if len(msg) > 16:\n",
    "        print(\"Message must be <= 16\")\n",
    "    \n",
    "    \n",
    "    decrypted = unpad(cipher.decrypt(msg),16).decode()\n",
    "    return decrypted\n",
    "\n",
    "def weirdify(inp):\n",
    "    iv = bytes.fromhex(inp[:32])\n",
    "    msg = bytes.fromhex(inp[32:])\n",
    "    command = decrypt(msg,iv)\n",
    "    return command"
   ]
  },
  {
   "cell_type": "code",
   "execution_count": 51,
   "metadata": {},
   "outputs": [
    {
     "data": {
      "text/plain": [
       "'§'"
      ]
     },
     "execution_count": 51,
     "metadata": {},
     "output_type": "execute_result"
    }
   ],
   "source": [
    "def crack():\n",
    "    return \"§\"\n",
    "\n",
    "eval('crack()      ')"
   ]
  },
  {
   "cell_type": "markdown",
   "metadata": {},
   "source": [
    "# Attack\n",
    "\n",
    "Malleability of CBC, where we have to change the plaintext of the first block such that `crack()` will be executed"
   ]
  },
  {
   "cell_type": "code",
   "execution_count": 54,
   "metadata": {},
   "outputs": [
    {
     "data": {
      "text/plain": [
       "15"
      ]
     },
     "execution_count": 54,
     "metadata": {},
     "output_type": "execute_result"
    }
   ],
   "source": [
    "# We need the same size because of padding\n",
    "plaintext = b'trapped_forever'\n",
    "chosen_pt = b'crack()'\n",
    "chosen_pt = chosen_pt + b\" \" * (15 - len(chosen_pt))\n",
    "len(plaintext)"
   ]
  },
  {
   "cell_type": "code",
   "execution_count": 56,
   "metadata": {},
   "outputs": [
    {
     "data": {
      "text/plain": [
       "(16, 16)"
      ]
     },
     "execution_count": 56,
     "metadata": {},
     "output_type": "execute_result"
    }
   ],
   "source": [
    "ciphertext = bytes.fromhex(\"cc155af266afb52379e2f8b66a6d1164853325783ecb7fd32c3c91ee0f5b2c63\")\n",
    "iv,msg = ciphertext[:16],ciphertext[16:]\n",
    "len(iv),len(msg)"
   ]
  },
  {
   "cell_type": "markdown",
   "metadata": {},
   "source": [
    "### We have after encryption with padding \n",
    "\n",
    "$m = $`trapped_forever\\x0e`\n",
    "\n",
    "$m' = $`print(crack()) \\0xe`\n",
    "\n",
    "$c = Enc(k,m \\oplus IV)$\n",
    "\n",
    "#### and decryption is\n",
    "\n",
    "$m = Dec(c) \\oplus IV$\n",
    "\n",
    "Therefore, \n",
    "\n",
    "$m' = Dec(c) \\oplus IV \\oplus m \\oplus m'$ such that we set our new iv to $IV \\oplus m \\oplus m'$"
   ]
  },
  {
   "cell_type": "code",
   "execution_count": 57,
   "metadata": {},
   "outputs": [],
   "source": [
    "def xor(a,b):\n",
    "    return bytes([x^y for x,y in zip(a,b)])"
   ]
  },
  {
   "cell_type": "code",
   "execution_count": 58,
   "metadata": {},
   "outputs": [
    {
     "data": {
      "text/plain": [
       "b'crack()        \\x01'"
      ]
     },
     "execution_count": 58,
     "metadata": {},
     "output_type": "execute_result"
    }
   ],
   "source": [
    "padded_plaintext = pad(plaintext,16)\n",
    "padded_chosentext = pad(chosen_pt,16)\n",
    "\n",
    "assert padded_chosentext[-1] == padded_plaintext[-1]\n",
    "padded_chosentext"
   ]
  },
  {
   "cell_type": "code",
   "execution_count": 59,
   "metadata": {},
   "outputs": [
    {
     "data": {
      "text/plain": [
       "'db155ae17de2f85c3fadaaf33c284364853325783ecb7fd32c3c91ee0f5b2c63'"
      ]
     },
     "execution_count": 59,
     "metadata": {},
     "output_type": "execute_result"
    }
   ],
   "source": [
    "iv_mal = xor(iv,xor(padded_plaintext,padded_chosentext))\n",
    "\n",
    "(iv_mal + msg).hex()"
   ]
  },
  {
   "cell_type": "markdown",
   "metadata": {},
   "source": [
    "## Building a oracle"
   ]
  },
  {
   "cell_type": "code",
   "execution_count": 61,
   "metadata": {},
   "outputs": [],
   "source": [
    "from pwn import *\n",
    "\n",
    "def xor(a,b):\n",
    "    return bytes([x^y for x,y in zip(a,b)])"
   ]
  },
  {
   "cell_type": "code",
   "execution_count": 137,
   "metadata": {},
   "outputs": [
    {
     "name": "stdout",
     "output_type": "stream",
     "text": [
      "[x] Opening connection to jail-crypto.challenge.cryptonite.team on port 1337\n",
      "[x] Opening connection to jail-crypto.challenge.cryptonite.team on port 1337: Trying 34.91.213.62\n",
      "[+] Opening connection to jail-crypto.challenge.cryptonite.team on port 1337: Done\n",
      "[x] Receiving all data\n",
      "[x] Receiving all data: 0B\n",
      "[x] Receiving all data: 287B\n",
      "[x] Receiving all data: 294B\n",
      "[+] Receiving all data: Done (294B)\n",
      "[*] Closed connection to jail-crypto.challenge.cryptonite.team port 1337\n",
      "total 16\n",
      "drwxr-xr-x 2 nobody nogroup 4096 Dec 10 13:44 .\n",
      "drwxr-xr-x 3 nobody nogroup 4096 Dec 10 13:44 ..\n",
      "-rw-r--r-- 1 nobody nogroup   18 Dec  6 13:08 flag.txt\n",
      "-rw-r--r-- 1 nobody nogroup    0 Dec  6 13:08 nite{Th3__gr3at_esc4p3}\n",
      "-rwxr-xr-x 1 nobody nogroup 1387 Dec  6 13:08 server.py\n",
      "test\n",
      ">>\n"
     ]
    }
   ],
   "source": [
    "r = remote(\"jail-crypto.challenge.cryptonite.team\",\"1337\")\n",
    "\n",
    "def query(command,second_cmd):\n",
    "    \n",
    "    plaintext = b'trapped_forever'\n",
    "    chosen_pt = command + b\" \" * (15 - len(command))\n",
    "    \n",
    "    padded_plaintext = pad(plaintext,16)\n",
    "    padded_chosentext = pad(chosen_pt,16)\n",
    "\n",
    "    assert padded_chosentext[-1] == padded_plaintext[-1]\n",
    "\n",
    "    r.recvuntil(b\"As a gift we'll give you a sample encryption\\n\")\n",
    "\n",
    "    ciphertext = bytes.fromhex(r.recvuntil(b\"\\n\").decode(\"ASCII\"))\n",
    "    r.recvuntil(b\">>\")\n",
    "\n",
    "    iv,msg = ciphertext[:16],ciphertext[16:]\n",
    "\n",
    "    iv_mal = xor(iv,xor(padded_plaintext,padded_chosentext))\n",
    "    payload = (iv_mal + msg).hex()\n",
    "\n",
    "    r.sendline(bytes(payload,\"ASCII\"))\n",
    "    r.sendline(second_cmd + b\"\\n\")\n",
    "    print(r.recvall(timeout=5).decode(\"ASCII\"))\n",
    "\n",
    "query(b\"exec(input(''))\",b\"import os;os.system('ls -la');print('test')\")"
   ]
  },
  {
   "cell_type": "code",
   "execution_count": null,
   "metadata": {},
   "outputs": [],
   "source": []
  }
 ],
 "metadata": {
  "interpreter": {
   "hash": "31f2aee4e71d21fbe5cf8b01ff0e069b9275f58929596ceb00d14d90e3e16cd6"
  },
  "kernelspec": {
   "display_name": "Python 3.8.10 64-bit",
   "language": "python",
   "name": "python3"
  },
  "language_info": {
   "codemirror_mode": {
    "name": "ipython",
    "version": 3
   },
   "file_extension": ".py",
   "mimetype": "text/x-python",
   "name": "python",
   "nbconvert_exporter": "python",
   "pygments_lexer": "ipython3",
   "version": "3.8.10"
  },
  "orig_nbformat": 4
 },
 "nbformat": 4,
 "nbformat_minor": 2
}
