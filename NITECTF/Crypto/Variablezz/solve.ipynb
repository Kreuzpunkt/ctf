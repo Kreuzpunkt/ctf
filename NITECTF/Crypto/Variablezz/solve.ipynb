{
 "cells": [
  {
   "cell_type": "markdown",
   "metadata": {},
   "source": [
    "Given the following code\n",
    "\n",
    "```python\n",
    "import random\n",
    "flag = 'nite{XXXXXXXXXXXXXXXXXXXXXXXX}'\n",
    "a = random.randint(1,9999999999)\n",
    "b = random.randint(1,9999999999)\n",
    "c = random.randint(1,9999999999)\n",
    "d = random.randint(1,9999999999)\n",
    "enc = []\n",
    "for x in flag:\n",
    "    res = (a*pow(ord(x),3)+b*pow(ord(x),2)+c*ord(x)+d)\n",
    "    enc.append(res)\n",
    "print(enc)\n",
    "```\n",
    "\n",
    "Let $x$ be a valid ASCII char\n",
    "\n",
    "$y = a*x^3 + b*x^2 + cx + d$ \n",
    "\n",
    "We can solve for x by using poly interpolation, because we know that the first 4 chars are `nite`"
   ]
  },
  {
   "cell_type": "code",
   "execution_count": 8,
   "metadata": {},
   "outputs": [
    {
     "data": {
      "text/plain": [
       "21"
      ]
     },
     "execution_count": 8,
     "metadata": {},
     "output_type": "execute_result"
    }
   ],
   "source": [
    "ciphertext = [8194393930139798, 7130326565974613, 9604891888210928, 6348662706560873, 11444688343062563, 7335285885849258, 3791814454530873, 926264016764633, 9604891888210928, 5286663580435343, 5801472714696338, 875157765441840, 926264016764633, 2406927753242613, 5980222734708251, 5286663580435343, 2822500611304865, 5626320567751485, 3660106045179536, 2309834531980460, 12010406743573553]\n",
    "len(ciphertext)"
   ]
  },
  {
   "cell_type": "code",
   "execution_count": 76,
   "metadata": {},
   "outputs": [],
   "source": [
    "from sympy import Symbol, interpolating_poly,solveset,S,Poly"
   ]
  },
  {
   "cell_type": "code",
   "execution_count": 84,
   "metadata": {},
   "outputs": [
    {
     "data": {
      "text/latex": [
       "$\\displaystyle \\operatorname{Poly}{\\left( 6096359484 x^{3} + 6606845234 x^{2} + 1736000027 x + 5669601428, x, domain=\\mathbb{Z} \\right)}$"
      ],
      "text/plain": [
       "Poly(6096359484*x**3 + 6606845234*x**2 + 1736000027*x + 5669601428, x, domain='ZZ')"
      ]
     },
     "execution_count": 84,
     "metadata": {},
     "output_type": "execute_result"
    }
   ],
   "source": [
    "xv = [ord(x) for x in \"nite{\"]\n",
    "yv = ciphertext[:len(xv)]\n",
    "\n",
    "x = Symbol('x')\n",
    "\n",
    "poly = interpolating_poly(4,x,xv,yv)\n",
    "poly = Poly(poly.expand(),x)\n",
    "poly"
   ]
  },
  {
   "cell_type": "code",
   "execution_count": 85,
   "metadata": {},
   "outputs": [],
   "source": [
    "for x_val,y_val in zip(xv,yv):\n",
    "    assert poly.eval(x_val) == y_val"
   ]
  },
  {
   "cell_type": "markdown",
   "metadata": {},
   "source": [
    "Instead of inverting the poly $f$, we just plug in every printable ASCII char value $x$ such that we have a map $y:=f(x)$."
   ]
  },
  {
   "cell_type": "code",
   "execution_count": 91,
   "metadata": {},
   "outputs": [
    {
     "data": {
      "text/plain": [
       "'nite{jU5t_b45Ic_MaTH}'"
      ]
     },
     "execution_count": 91,
     "metadata": {},
     "output_type": "execute_result"
    }
   ],
   "source": [
    "import string\n",
    "\n",
    "ytox = {\n",
    "    poly.eval(ord(char)):ord(char) for char in string.printable\n",
    "}\n",
    "\n",
    "\"\".join([chr(ytox[c]) for c in ciphertext])"
   ]
  },
  {
   "cell_type": "code",
   "execution_count": null,
   "metadata": {},
   "outputs": [],
   "source": []
  }
 ],
 "metadata": {
  "interpreter": {
   "hash": "31f2aee4e71d21fbe5cf8b01ff0e069b9275f58929596ceb00d14d90e3e16cd6"
  },
  "kernelspec": {
   "display_name": "Python 3.8.10 64-bit",
   "language": "python",
   "name": "python3"
  },
  "language_info": {
   "codemirror_mode": {
    "name": "ipython",
    "version": 3
   },
   "file_extension": ".py",
   "mimetype": "text/x-python",
   "name": "python",
   "nbconvert_exporter": "python",
   "pygments_lexer": "ipython3",
   "version": "3.8.10"
  },
  "orig_nbformat": 4
 },
 "nbformat": 4,
 "nbformat_minor": 2
}
