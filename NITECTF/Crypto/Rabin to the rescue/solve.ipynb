{
 "cells": [
  {
   "cell_type": "markdown",
   "metadata": {},
   "source": [
    "# RSA with unknown n and weak prime generation\n",
    "\n",
    "$c = pow(m,2,n)$"
   ]
  },
  {
   "cell_type": "code",
   "execution_count": 132,
   "metadata": {},
   "outputs": [],
   "source": [
    "from Crypto.Util.number import *\n",
    "from sympy import *\n",
    "from pwn import *"
   ]
  },
  {
   "cell_type": "code",
   "execution_count": 138,
   "metadata": {},
   "outputs": [
    {
     "data": {
      "text/plain": [
       "b'\\x0f\\xff'"
      ]
     },
     "execution_count": 138,
     "metadata": {},
     "output_type": "execute_result"
    }
   ],
   "source": [
    "bytes.fromhex(\"0FFF\")\n",
    "\n",
    "old = bytes.fromhex\n",
    "bytes.fromhex = lambda x: old(\"0\"+x)if len(x)%2 == 1 "
   ]
  },
  {
   "cell_type": "code",
   "execution_count": 133,
   "metadata": {},
   "outputs": [
    {
     "name": "stdout",
     "output_type": "stream",
     "text": [
      "[x] Opening connection to rabin.challenge.cryptonite.team on port 1337\n",
      "[x] Opening connection to rabin.challenge.cryptonite.team on port 1337: Trying 34.141.169.115\n",
      "[+] Opening connection to rabin.challenge.cryptonite.team on port 1337: Done\n",
      "884034210547077656651046986700408217763418130786925137494132992370619976462437407478594103692015302140841705313869227202035671190061331119436258746094089\n",
      "b'Enter message in hex:\\n'\n",
      "b'ff\\n'\n",
      "b'Your Ciphertext is: \\n'\n",
      "b'Enter message in hex:\\n'\n",
      "b'ff\\n'\n",
      "b'Your Ciphertext is: \\n'\n"
     ]
    },
    {
     "data": {
      "text/plain": [
       "(65025, 65025)"
      ]
     },
     "execution_count": 133,
     "metadata": {},
     "output_type": "execute_result"
    }
   ],
   "source": [
    "r = remote(\"rabin.challenge.cryptonite.team\",1337)\n",
    "r.recvuntil(b\">>\")\n",
    "r.send(b\"G\\n\")\n",
    "r.recvuntil(b\"Your encrypted flag is:\\n\")\n",
    "flag = bytes_to_long(bytes.fromhex(r.recvuntil(b\"\\n\")[:-1].decode(\"ASCII\")))\n",
    "r.recvuntil(b\">>\")\n",
    "\n",
    "print(flag)\n",
    "\n",
    "def oracle(payload):\n",
    "    r.send(b\"E\\n\")\n",
    "    r.recvuntil(b\"Enter message in hex:\\n\")\n",
    "    to_hex = long_to_bytes(payload).hex()\n",
    "    r.send(bytes(to_hex,\"ASCII\") + b\"\\n\")\n",
    "    r.recvuntil(b\"is: \\n\")\n",
    "    ciphertext = bytes_to_long(bytes.fromhex(r.recvuntil(b\"\\n\")[:-1].decode(\"ASCII\")))\n",
    "    r.recvuntil(b\">>\")\n",
    "    return ciphertext\n",
    "\n",
    "oracle(0xFF),oracle(0xFF)\n"
   ]
  },
  {
   "cell_type": "code",
   "execution_count": 134,
   "metadata": {},
   "outputs": [],
   "source": [
    "def solve(flag):\n",
    "\n",
    "    # 2^512 bit mod, therefore will (2^256)^2 likely lead to mod reduction\n",
    "    start = 2**255\n",
    "    end = 2**256\n",
    "\n",
    "    while start + 1 < end:\n",
    "        midpoint = int(start + (end-start)//2)\n",
    "\n",
    "        if oracle(midpoint) == midpoint**2:\n",
    "            start = midpoint\n",
    "        else:\n",
    "            end = midpoint\n",
    "\n",
    "    r = 1\n",
    "\n",
    "    test_x = end+1\n",
    "    test_y = oracle(test_x)\n",
    "\n",
    "    # r should likely be one, but we just check to make sure\n",
    "    while True:\n",
    "        n, mod = divmod(test_x**2 - test_y,r)\n",
    "\n",
    "        if mod == 0 and test_y == pow(test_x,2,n):\n",
    "            break\n",
    "        r += 2\n",
    "\n",
    "    assert N==n\n",
    "\n",
    "    # femat factorization technique, because the primes are next to each other\n",
    "    # http://deweger.xs4all.nl/papers/%5b33%5ddW-SmlPrDif-AAECC%5b2002%5d.pdf\n",
    "    # https://facthacks.cr.yp.to/fermat.html\n",
    "    import gmpy2\n",
    "\n",
    "    basepoint = gmpy2.isqrt(gmpy2.mpz(n))\n",
    "\n",
    "    while not gmpy2.is_square(basepoint**2 - n):\n",
    "        basepoint +=1\n",
    "\n",
    "    b = gmpy2.isqrt(gmpy2.mpz(basepoint**2 - n))\n",
    "    a = basepoint\n",
    "\n",
    "    p,q = int(a - b),int(a+b)\n",
    "\n",
    "    assert p*q == N\n",
    "\n",
    "    mp = pow(flag,(p+1)//4,p)\n",
    "    mq = pow(flag,(q+1)//4,q)\n",
    "\n",
    "    def egcd(a, b):\n",
    "        if a == 0:\n",
    "            return (b, 0, 1)\n",
    "        else:\n",
    "            g, y, x = egcd(b % a, a)\n",
    "            return (g, x - (b // a) * y, y)\n",
    "\n",
    "    c,y_p,y_q = egcd(p,q)\n",
    "\n",
    "    assert p*y_p + q*y_q ==1\n",
    "\n",
    "    r1 = (y_p * p * mq + y_q * q * mp) % n\n",
    "    r2 = n-r1\n",
    "    r3 = (y_p * p * mq - y_q * q * mp) % n\n",
    "    r4 = n-r3\n",
    "\n",
    "    return [r1,r2,r3,r4]"
   ]
  },
  {
   "cell_type": "code",
   "execution_count": 135,
   "metadata": {},
   "outputs": [
    {
     "name": "stdout",
     "output_type": "stream",
     "text": [
      "b'Enter message in hex:\\n'\n",
      "b'c000000000000000000000000000000000000000000000000000000000000000\\n'\n",
      "b'Your Ciphertext is: \\n'\n",
      "b'Enter message in hex:\\n'\n",
      "b'a000000000000000000000000000000000000000000000000000000000000000\\n'\n",
      "b'Your Ciphertext is: \\n'\n",
      "b'Enter message in hex:\\n'\n",
      "b'b000000000000000000000000000000000000000000000000000000000000000\\n'\n",
      "b'Your Ciphertext is: \\n'\n",
      "b'Enter message in hex:\\n'\n",
      "b'b800000000000000000000000000000000000000000000000000000000000000\\n'\n",
      "b'Your Ciphertext is: \\n'\n"
     ]
    },
    {
     "ename": "ValueError",
     "evalue": "non-hexadecimal number found in fromhex() arg at position 127",
     "output_type": "error",
     "traceback": [
      "\u001b[0;31m---------------------------------------------------------------------------\u001b[0m",
      "\u001b[0;31mValueError\u001b[0m                                Traceback (most recent call last)",
      "\u001b[0;32m<ipython-input-135-43e18ceabdc3>\u001b[0m in \u001b[0;36m<module>\u001b[0;34m\u001b[0m\n\u001b[0;32m----> 1\u001b[0;31m \u001b[0mres\u001b[0m \u001b[0;34m=\u001b[0m \u001b[0msolve\u001b[0m\u001b[0;34m(\u001b[0m\u001b[0mflag\u001b[0m\u001b[0;34m)\u001b[0m\u001b[0;34m\u001b[0m\u001b[0;34m\u001b[0m\u001b[0m\n\u001b[0m",
      "\u001b[0;32m<ipython-input-134-31fb1c051113>\u001b[0m in \u001b[0;36msolve\u001b[0;34m(flag)\u001b[0m\n\u001b[1;32m      8\u001b[0m         \u001b[0mmidpoint\u001b[0m \u001b[0;34m=\u001b[0m \u001b[0mint\u001b[0m\u001b[0;34m(\u001b[0m\u001b[0mstart\u001b[0m \u001b[0;34m+\u001b[0m \u001b[0;34m(\u001b[0m\u001b[0mend\u001b[0m\u001b[0;34m-\u001b[0m\u001b[0mstart\u001b[0m\u001b[0;34m)\u001b[0m\u001b[0;34m//\u001b[0m\u001b[0;36m2\u001b[0m\u001b[0;34m)\u001b[0m\u001b[0;34m\u001b[0m\u001b[0;34m\u001b[0m\u001b[0m\n\u001b[1;32m      9\u001b[0m \u001b[0;34m\u001b[0m\u001b[0m\n\u001b[0;32m---> 10\u001b[0;31m         \u001b[0;32mif\u001b[0m \u001b[0moracle\u001b[0m\u001b[0;34m(\u001b[0m\u001b[0mmidpoint\u001b[0m\u001b[0;34m)\u001b[0m \u001b[0;34m==\u001b[0m \u001b[0mmidpoint\u001b[0m\u001b[0;34m**\u001b[0m\u001b[0;36m2\u001b[0m\u001b[0;34m:\u001b[0m\u001b[0;34m\u001b[0m\u001b[0;34m\u001b[0m\u001b[0m\n\u001b[0m\u001b[1;32m     11\u001b[0m             \u001b[0mstart\u001b[0m \u001b[0;34m=\u001b[0m \u001b[0mmidpoint\u001b[0m\u001b[0;34m\u001b[0m\u001b[0;34m\u001b[0m\u001b[0m\n\u001b[1;32m     12\u001b[0m         \u001b[0;32melse\u001b[0m\u001b[0;34m:\u001b[0m\u001b[0;34m\u001b[0m\u001b[0;34m\u001b[0m\u001b[0m\n",
      "\u001b[0;32m<ipython-input-133-2ed77f31ec1f>\u001b[0m in \u001b[0;36moracle\u001b[0;34m(payload)\u001b[0m\n\u001b[1;32m     15\u001b[0m     \u001b[0mr\u001b[0m\u001b[0;34m.\u001b[0m\u001b[0msend\u001b[0m\u001b[0;34m(\u001b[0m\u001b[0mbytes\u001b[0m\u001b[0;34m(\u001b[0m\u001b[0mto_hex\u001b[0m\u001b[0;34m,\u001b[0m\u001b[0;34m\"ASCII\"\u001b[0m\u001b[0;34m)\u001b[0m \u001b[0;34m+\u001b[0m \u001b[0;34mb\"\\n\"\u001b[0m\u001b[0;34m)\u001b[0m\u001b[0;34m\u001b[0m\u001b[0;34m\u001b[0m\u001b[0m\n\u001b[1;32m     16\u001b[0m     \u001b[0mprint\u001b[0m\u001b[0;34m(\u001b[0m\u001b[0mr\u001b[0m\u001b[0;34m.\u001b[0m\u001b[0mrecvuntil\u001b[0m\u001b[0;34m(\u001b[0m\u001b[0;34mb\"is: \\n\"\u001b[0m\u001b[0;34m)\u001b[0m\u001b[0;34m)\u001b[0m\u001b[0;34m\u001b[0m\u001b[0;34m\u001b[0m\u001b[0m\n\u001b[0;32m---> 17\u001b[0;31m     \u001b[0mciphertext\u001b[0m \u001b[0;34m=\u001b[0m \u001b[0mbytes_to_long\u001b[0m\u001b[0;34m(\u001b[0m\u001b[0mbytes\u001b[0m\u001b[0;34m.\u001b[0m\u001b[0mfromhex\u001b[0m\u001b[0;34m(\u001b[0m\u001b[0mr\u001b[0m\u001b[0;34m.\u001b[0m\u001b[0mrecvuntil\u001b[0m\u001b[0;34m(\u001b[0m\u001b[0;34mb\"\\n\"\u001b[0m\u001b[0;34m)\u001b[0m\u001b[0;34m[\u001b[0m\u001b[0;34m:\u001b[0m\u001b[0;34m-\u001b[0m\u001b[0;36m1\u001b[0m\u001b[0;34m]\u001b[0m\u001b[0;34m.\u001b[0m\u001b[0mdecode\u001b[0m\u001b[0;34m(\u001b[0m\u001b[0;34m\"ASCII\"\u001b[0m\u001b[0;34m)\u001b[0m\u001b[0;34m)\u001b[0m\u001b[0;34m)\u001b[0m\u001b[0;34m\u001b[0m\u001b[0;34m\u001b[0m\u001b[0m\n\u001b[0m\u001b[1;32m     18\u001b[0m     \u001b[0mr\u001b[0m\u001b[0;34m.\u001b[0m\u001b[0mrecvuntil\u001b[0m\u001b[0;34m(\u001b[0m\u001b[0;34mb\">>\"\u001b[0m\u001b[0;34m)\u001b[0m\u001b[0;34m\u001b[0m\u001b[0;34m\u001b[0m\u001b[0m\n\u001b[1;32m     19\u001b[0m     \u001b[0;32mreturn\u001b[0m \u001b[0mciphertext\u001b[0m\u001b[0;34m\u001b[0m\u001b[0;34m\u001b[0m\u001b[0m\n",
      "\u001b[0;31mValueError\u001b[0m: non-hexadecimal number found in fromhex() arg at position 127"
     ]
    }
   ],
   "source": [
    "res = solve(flag)"
   ]
  },
  {
   "cell_type": "code",
   "execution_count": null,
   "metadata": {},
   "outputs": [],
   "source": []
  }
 ],
 "metadata": {
  "interpreter": {
   "hash": "31f2aee4e71d21fbe5cf8b01ff0e069b9275f58929596ceb00d14d90e3e16cd6"
  },
  "kernelspec": {
   "display_name": "Python 3.8.10 64-bit",
   "language": "python",
   "name": "python3"
  },
  "language_info": {
   "codemirror_mode": {
    "name": "ipython",
    "version": 3
   },
   "file_extension": ".py",
   "mimetype": "text/x-python",
   "name": "python",
   "nbconvert_exporter": "python",
   "pygments_lexer": "ipython3",
   "version": "3.8.10"
  },
  "orig_nbformat": 4
 },
 "nbformat": 4,
 "nbformat_minor": 2
}
