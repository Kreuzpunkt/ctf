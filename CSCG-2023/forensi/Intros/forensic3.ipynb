{
 "cells": [
  {
   "cell_type": "code",
   "execution_count": 57,
   "metadata": {},
   "outputs": [],
   "source": [
    "import pngparser as pp\n",
    "import string\n",
    "from crc import Calculator, Crc32\n",
    "import zlib"
   ]
  },
  {
   "cell_type": "code",
   "execution_count": 66,
   "metadata": {},
   "outputs": [],
   "source": [
    "png = pp.PngParser(\"/home/jovyan/work/challenges/forensi/intro3/intro-forensics.png\")"
   ]
  },
  {
   "cell_type": "code",
   "execution_count": 67,
   "metadata": {},
   "outputs": [],
   "source": [
    "chunks = png.get_all()\n",
    "chunks_corrected = sorted(\n",
    "    chunks,\n",
    "    key=lambda x:int.from_bytes(x.crc,\"big\")\n",
    ")"
   ]
  },
  {
   "cell_type": "code",
   "execution_count": 68,
   "metadata": {},
   "outputs": [
    {
     "name": "stdout",
     "output_type": "stream",
     "text": [
      "1a3057f6\n",
      "1a131490\n",
      "227a7e2c\n",
      "e22bfc32\n",
      "7c4da485\n",
      "bb03d15f\n",
      "7b0333a4\n",
      "a0f387aa\n",
      "20d88e32\n",
      "aa2c749a\n",
      "58078fb6\n",
      "4fcd95c6\n",
      "f54aaa76\n",
      "be6bb9d9\n",
      "dfe9be2e\n",
      "1c35533a\n",
      "fd3e7204\n",
      "95111258\n",
      "424003c5\n",
      "65be2225\n",
      "fce7782d\n",
      "69c87f54\n",
      "bee5a9f7\n",
      "165cd707\n",
      "036c52b6\n",
      "ae426082\n"
     ]
    }
   ],
   "source": [
    "with open(\"/home/jovyan/work/challenges/forensi/intro3/final.png\",\"wb\") as f:\n",
    "    f.write(bytes.fromhex(\"89 50 4e 47 0d 0a 1a 0a\"))\n",
    "    for correct in chunks_corrected:\n",
    "        # https://stackoverflow.com/questions/42748223/python-how-to-calculate-png-crc-value\n",
    "        correct.crc = zlib.crc32(correct.type + correct.data).to_bytes(4,\"big\")\n",
    "        print(correct.crc.hex())\n",
    "        f.write(correct.to_bytes())"
   ]
  },
  {
   "cell_type": "code",
   "execution_count": null,
   "metadata": {},
   "outputs": [],
   "source": [
    "https://ctf-wiki.mahaloz.re/misc/picture/png/\n",
    "\n",
    "http://www.libpng.org/pub/png/spec/1.2/PNG-Chunks.html\n",
    "\n",
    "https://www.nayuki.io/page/png-file-chunk-inspector\n",
    "\n",
    "https://gist.github.com/Drakota/e17f4e8a1b6f30292acd442dda9d3565\n",
    "\n",
    "https://nicoretti.github.io/crc/\n",
    "\n"
   ]
  }
 ],
 "metadata": {
  "kernelspec": {
   "display_name": "Python 3 (ipykernel)",
   "language": "python",
   "name": "python3"
  },
  "language_info": {
   "codemirror_mode": {
    "name": "ipython",
    "version": 3
   },
   "file_extension": ".py",
   "mimetype": "text/x-python",
   "name": "python",
   "nbconvert_exporter": "python",
   "pygments_lexer": "ipython3",
   "version": "3.10.9"
  },
  "orig_nbformat": 4
 },
 "nbformat": 4,
 "nbformat_minor": 2
}
