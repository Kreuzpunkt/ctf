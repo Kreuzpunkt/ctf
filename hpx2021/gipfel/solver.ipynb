{
 "cells": [
  {
   "cell_type": "code",
   "execution_count": 8,
   "metadata": {},
   "outputs": [],
   "source": [
    "#!/usr/bin/env python3\n",
    "from Crypto.Hash import SHA256\n",
    "from Crypto.Cipher import AES\n",
    "import signal, random\n",
    "random = random.SystemRandom()\n",
    "\n",
    "q = 0x3a05ce0b044dade60c9a52fb6a3035fc9117b307ca21ae1b6577fef7acd651c1f1c9c06a644fd82955694af6cd4e88f540010f2e8fdf037c769135dbe29bf16a154b62e614bb441f318a82ccd1e493ffa565e5ffd5a708251a50d145f3159a5\n",
    "\n",
    "def enc(a):\n",
    "    f = {str: str.encode, int: int.__str__}.get(type(a))\n",
    "    return enc(f(a)) if f else a\n",
    "\n",
    "def H(*args):\n",
    "    data = b'\\0'.join(map(enc, args))\n",
    "    return SHA256.new(data).digest()\n",
    "\n",
    "def F(h, x):\n",
    "    return pow(h, x, q)\n",
    "\n",
    "################################################################\n",
    "\n",
    "password = random.randrange(10**6)\n",
    "\n",
    "def go(publicB,verB):\n",
    "    generator = int(H(password).hex(), 16)\n",
    "\n",
    "    private_A = 40*random.randrange(2**999)\n",
    "    publicA = F(generator, private_A)\n",
    "    print(f'{publicA = :#x}')\n",
    "\n",
    "    if not 1 < publicB < q:\n",
    "        exit('nope')\n",
    "\n",
    "    shared = F(publicB, private_A)\n",
    "\n",
    "    verA = F(generator, shared**3)\n",
    "    print(f'{verA = :#x}')\n",
    "\n",
    "    if verB == F(generator, shared**5):\n",
    "        key = H(password, shared)\n",
    "        flag = \"this is a test\"\n",
    "        aes = AES.new(key, AES.MODE_CTR, nonce=b'')\n",
    "        encrypted = aes.encrypt(flag.encode()).hex()\n",
    "        print(f'flag:', encrypted)\n",
    "        return (publicA,verA,encrypted)\n",
    "    else:\n",
    "        print(f'nope! {shared:#x}')\n",
    "        return (publicA,verA,shared)"
   ]
  },
  {
   "cell_type": "code",
   "execution_count": 9,
   "metadata": {},
   "outputs": [
    {
     "data": {
      "text/plain": [
       "528.080102389484"
      ]
     },
     "execution_count": 9,
     "metadata": {},
     "output_type": "execute_result"
    }
   ],
   "source": [
    "from Crypto.Util.number import isPrime\n",
    "import math\n",
    "assert isPrime(q)\n",
    "math.log(q)"
   ]
  },
  {
   "cell_type": "code",
   "execution_count": 27,
   "metadata": {},
   "outputs": [
    {
     "data": {
      "text/plain": [
       "{2: 2,\n",
       " 2344807743588794553832391292516279194397209456764712786969868894104465782493871625440983981162219279755855675661203: 2}"
      ]
     },
     "execution_count": 27,
     "metadata": {},
     "output_type": "execute_result"
    }
   ],
   "source": [
    "from sympy import factorint\n",
    "\n",
    "factorint(q-1)\n",
    "# => No generator based attack i.e. small subgroups"
   ]
  },
  {
   "cell_type": "markdown",
   "metadata": {},
   "source": [
    "In general, I was to lazy to build the oracle with pwntools, therefore I copy and pasted in the values\n",
    "\n",
    "## Step 1)\n",
    "\n",
    "Get the generator by sending $q-1$ as our public key. This will lead to $(q-1)^{sk} \\mod q$ where $sk$ is even, such that the shared secret is $1$."
   ]
  },
  {
   "cell_type": "code",
   "execution_count": 18,
   "metadata": {},
   "outputs": [
    {
     "name": "stdout",
     "output_type": "stream",
     "text": [
      "publicA = 0x189e8ba7966eb29cbf73f866221382ba5286038015a2876917be756c04c08c36511f10c81276b2ba4bdbbc15b7fb3d88795eda71da3ca558a11c1afe91f59538034d0a3e84ba7c0db4da8225ed9eb95a2d3c113f71ae00ea47a02a639326d27\n",
      "verA = 0x92ad7d86a66dd2c1877006724f89c4747987875bb9e1a607499e767a9e35746e\n",
      "nope! 0x1\n"
     ]
    },
    {
     "data": {
      "text/plain": [
       "('Send payload:',\n",
       " 21992493417575896428286087521674334179336251497851906051131955410904158485314789427947788692030188502157019527331790513011401920585195969087140918256569620608732530453375717414098148438918130733211117668960801178110820764957628836)"
      ]
     },
     "execution_count": 18,
     "metadata": {},
     "output_type": "execute_result"
    }
   ],
   "source": [
    "publicB = q-1 \n",
    "\n",
    "publicA,verA,shared = go(publicB,-1)\n",
    "\n",
    "assert shared == 1\n",
    "\n",
    "\"Send payload:\",publicB"
   ]
  },
  {
   "cell_type": "code",
   "execution_count": 20,
   "metadata": {},
   "outputs": [
    {
     "data": {
      "text/plain": [
       "88385797498924122664683714702432294121015094809694995437885709393914970454562"
      ]
     },
     "execution_count": 20,
     "metadata": {},
     "output_type": "execute_result"
    }
   ],
   "source": [
    "# pastes in verA\n",
    "generator = int(\"0xc36896ad2a0a7e4b9002b57d41fad70bfc67017835c9139b0486fbee7a773a22\",16)\n",
    "generator"
   ]
  },
  {
   "cell_type": "markdown",
   "metadata": {},
   "source": [
    "## Step 2\n",
    "\n",
    "Now we have to retrieve the encrypted flag, therefore we have to solve the small challenge of computing $g^{(shared^{5})}$. Therefore, we can send $Pk_b = q-1$ again, but this time have to set $V_b = g$"
   ]
  },
  {
   "cell_type": "code",
   "execution_count": 28,
   "metadata": {},
   "outputs": [
    {
     "name": "stdout",
     "output_type": "stream",
     "text": [
      "publicA = 0x29257af8795df9d386ce1ca378b601a89988a847c0f3c76b10ee65c738328116e494b287f8b0550ac052aeec81ad0961b48550370a7c509dd0b8d332a0ef0d1f5dad22d1c01a8fbde09197aa70d3bae3c6a38cd9e7cb9242f0630687f2b775c\n",
      "verA = 0x92ad7d86a66dd2c1877006724f89c4747987875bb9e1a607499e767a9e35746e\n",
      "nope! 0x1\n"
     ]
    },
    {
     "data": {
      "text/plain": [
       "('send following',\n",
       " 21992493417575896428286087521674334179336251497851906051131955410904158485314789427947788692030188502157019527331790513011401920585195969087140918256569620608732530453375717414098148438918130733211117668960801178110820764957628836,\n",
       " 88385797498924122664683714702432294121015094809694995437885709393914970454562)"
      ]
     },
     "execution_count": 28,
     "metadata": {},
     "output_type": "execute_result"
    }
   ],
   "source": [
    "publicB = q-1 \n",
    "\n",
    "publicA,verA,ciphertext = go(publicB,generator)\n",
    "\n",
    "(\"send following\",q-1,generator)"
   ]
  },
  {
   "cell_type": "code",
   "execution_count": 29,
   "metadata": {},
   "outputs": [],
   "source": [
    "# paste the ciphertext from the oracle\n",
    "ciphertext = bytes.fromhex(\"f4cb9c2e2ccac7124c4b86041adf731d3c2b22a166f819403c05ad75fa28480c3435b99beb03c19e\")"
   ]
  },
  {
   "cell_type": "markdown",
   "metadata": {},
   "source": [
    "## Step 3\n",
    "\n",
    "Bruteforce the password because there are only $10^6=1.000.000$ possibilities "
   ]
  },
  {
   "cell_type": "code",
   "execution_count": 23,
   "metadata": {},
   "outputs": [],
   "source": [
    "flags = [] \n",
    "\n",
    "import string\n",
    "pable = set(bytes(string.printable.encode()))\n",
    "\n",
    "for i in range(10**6):\n",
    "    key = H(i,1)\n",
    "    aes = AES.new(key, AES.MODE_CTR, nonce=b'')\n",
    "\n",
    "    plaintext = aes.decrypt(ciphertext)\n",
    "\n",
    "    # check if chars are printable\n",
    "    if set(plaintext).issubset(pable):\n",
    "        flags.append(plaintext)\n",
    "\n",
    "list(filter(lambda x:b\"{\" in x,flags))"
   ]
  }
 ],
 "metadata": {
  "interpreter": {
   "hash": "31f2aee4e71d21fbe5cf8b01ff0e069b9275f58929596ceb00d14d90e3e16cd6"
  },
  "kernelspec": {
   "display_name": "Python 3.8.10 64-bit",
   "language": "python",
   "name": "python3"
  },
  "language_info": {
   "codemirror_mode": {
    "name": "ipython",
    "version": 3
   },
   "file_extension": ".py",
   "mimetype": "text/x-python",
   "name": "python",
   "nbconvert_exporter": "python",
   "pygments_lexer": "ipython3",
   "version": "3.8.10"
  },
  "orig_nbformat": 4
 },
 "nbformat": 4,
 "nbformat_minor": 2
}
