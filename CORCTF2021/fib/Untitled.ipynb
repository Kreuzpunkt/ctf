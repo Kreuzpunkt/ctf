{
 "cells": [
  {
   "cell_type": "code",
   "execution_count": 62,
   "metadata": {},
   "outputs": [],
   "source": [
    "fib = [1, 1]\n",
    "for i in range(2, 11):\n",
    "\tfib.append(fib[i - 1] + fib[i - 2])\n",
    "\n",
    "def c2f(c):\n",
    "\tn = ord(c)\n",
    "\tb = ''\n",
    "\tfor i in range(10, -1, -1):\n",
    "\t\tif n >= fib[i]:\n",
    "\t\t\tn -= fib[i]\n",
    "\t\t\tb += '1'\n",
    "\t\telse:\n",
    "\t\t\tb += '0'\n",
    "\treturn b\n",
    "\n",
    "flag = \"CTF{HUHUHE03132468}\"\n",
    "enc = ''\n",
    "for c in flag:\n",
    "\tenc += c2f(c) + ' '\n",
    "with open('flag.enc', 'w') as f:\n",
    "\tf.write(enc.strip())"
   ]
  },
  {
   "cell_type": "code",
   "execution_count": 63,
   "metadata": {},
   "outputs": [
    {
     "data": {
      "text/plain": [
       "[10, 9, 8, 7, 6, 5, 4, 3, 2, 1, 0]"
      ]
     },
     "execution_count": 63,
     "metadata": {},
     "output_type": "execute_result"
    }
   ],
   "source": [
    "list(range(10, -1, -1))"
   ]
  },
  {
   "cell_type": "code",
   "execution_count": 64,
   "metadata": {},
   "outputs": [
    {
     "data": {
      "text/plain": [
       "[1, 1, 2, 3, 5, 8, 13, 21, 34, 55, 89]"
      ]
     },
     "execution_count": 64,
     "metadata": {},
     "output_type": "execute_result"
    }
   ],
   "source": [
    "fib"
   ]
  },
  {
   "cell_type": "code",
   "execution_count": 72,
   "metadata": {},
   "outputs": [],
   "source": [
    "def f2c(f):\n",
    "    \n",
    "    char = 0\n",
    "    \n",
    "    for i,b in enumerate(f,start=0):\n",
    "        if b == \"1\":\n",
    "            char += fib[10-i]\n",
    "    return chr(char)"
   ]
  },
  {
   "cell_type": "code",
   "execution_count": 73,
   "metadata": {},
   "outputs": [
    {
     "name": "stdout",
     "output_type": "stream",
     "text": [
      "flag: corctf{b4s3d_4nd_f1bp!113d}\n",
      "\n"
     ]
    }
   ],
   "source": [
    "with open('flag', 'r') as f:\n",
    "    flag = \"\"\n",
    "    for line in f.read().split(\" \"):\n",
    "        flag += f2c(str(line))\n",
    "    print(\"flag:\",flag)"
   ]
  },
  {
   "cell_type": "code",
   "execution_count": null,
   "metadata": {},
   "outputs": [],
   "source": []
  },
  {
   "cell_type": "code",
   "execution_count": null,
   "metadata": {},
   "outputs": [],
   "source": []
  }
 ],
 "metadata": {
  "kernelspec": {
   "display_name": "Python 3",
   "language": "python",
   "name": "python3"
  },
  "language_info": {
   "codemirror_mode": {
    "name": "ipython",
    "version": 3
   },
   "file_extension": ".py",
   "mimetype": "text/x-python",
   "name": "python",
   "nbconvert_exporter": "python",
   "pygments_lexer": "ipython3",
   "version": "3.7.4"
  }
 },
 "nbformat": 4,
 "nbformat_minor": 4
}
