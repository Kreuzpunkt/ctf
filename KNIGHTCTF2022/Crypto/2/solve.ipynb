{
 "cells": [
  {
   "cell_type": "markdown",
   "metadata": {},
   "source": [
    "$L_0,R_0 = flag_1,flag_2$\n",
    "\n",
    "---\n",
    "\n",
    "$R_1 = F(R_0,m) \\oplus L_0$\n",
    "\n",
    "$L_1 = F(R_0,0)$\n",
    "\n",
    "---\n",
    "\n",
    "$R_2 = F(R_1,n) \\oplus L_1$\n",
    "\n",
    "$L_2 = F(R_1,0)$"
   ]
  },
  {
   "cell_type": "code",
   "execution_count": 66,
   "metadata": {},
   "outputs": [],
   "source": [
    "m = 21 \n",
    "n = 22\n",
    "\n",
    "def f(word, key):\n",
    "    out = \"\"\n",
    "    for i in range(len(word)):\n",
    "        out += chr(ord(word[i]) ^ key)\n",
    "    return out"
   ]
  },
  {
   "cell_type": "code",
   "execution_count": 67,
   "metadata": {},
   "outputs": [],
   "source": [
    "with open(\"cipher.txt\",\"r\") as file:\n",
    "    ciphertext = file.read()\n",
    "    x = ciphertext[:len(ciphertext)//2]\n",
    "    y = ciphertext[len(ciphertext)//2:]"
   ]
  },
  {
   "cell_type": "markdown",
   "metadata": {},
   "source": [
    "Do the feistel network in reverse"
   ]
  },
  {
   "cell_type": "code",
   "execution_count": 69,
   "metadata": {},
   "outputs": [
    {
     "data": {
      "text/plain": [
       "'KCTF{feistel_cipher_ftw}'"
      ]
     },
     "execution_count": 69,
     "metadata": {},
     "output_type": "execute_result"
    }
   ],
   "source": [
    "L, R = y,x\n",
    "x = \"\".join(chr(ord(f(R, m)[i]) ^ ord(L[i])) for i in range(len(L)))\n",
    "y = f(R, 0)\n",
    "\n",
    "L, R = y, x\n",
    "x = \"\".join(chr(ord(f(R, n)[i]) ^ ord(L[i])) for i in range(len(L)))\n",
    "y = f(R, 0)\n",
    "\n",
    "y + x\n"
   ]
  },
  {
   "cell_type": "code",
   "execution_count": null,
   "metadata": {},
   "outputs": [],
   "source": []
  }
 ],
 "metadata": {
  "interpreter": {
   "hash": "31f2aee4e71d21fbe5cf8b01ff0e069b9275f58929596ceb00d14d90e3e16cd6"
  },
  "kernelspec": {
   "display_name": "Python 3.8.10 64-bit",
   "language": "python",
   "name": "python3"
  },
  "language_info": {
   "codemirror_mode": {
    "name": "ipython",
    "version": 3
   },
   "file_extension": ".py",
   "mimetype": "text/x-python",
   "name": "python",
   "nbconvert_exporter": "python",
   "pygments_lexer": "ipython3",
   "version": "3.8.10"
  },
  "orig_nbformat": 4
 },
 "nbformat": 4,
 "nbformat_minor": 2
}
